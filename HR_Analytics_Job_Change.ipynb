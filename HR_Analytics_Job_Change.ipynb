{
 "cells": [
  {
   "cell_type": "markdown",
   "id": "e89aef8b-c112-4532-a6c6-8b2f79b46a0d",
   "metadata": {},
   "source": [
    "# HR-аналитика: смена работы специалистов по обработке данных\n",
    "\n",
    "## Введение\n",
    "\n",
    "В данном проекте проведено исследование набора данных о смене работы специалистов в области науки о данных. Целью проекта является анализ факторов, влияющих на решение специалистов покинуть свою текущую работу.\n",
    "\n",
    "## Контекст\n",
    "\n",
    "Компания, которая занимается большими данными и наукой о данных, проводит курсы и хочет нанять специалистов по обработке данных, успешно прошедших обучение.\n",
    " \n",
    "Многие люди записываются на их обучение. Компания хочет знать, кто из этих кандидатов действительно хочет работать в компании после обучения. Это поможет сократить затрату ресурсов на поиск новых сотрудников. Также это поможет в категоризации кандидатов для подготовки оптимального плана обучения. \n",
    "\n",
    "Компания получает информацию о кандидатах в момент их регистрации на курс.\n",
    "\n",
    "## Постановка задачи\n",
    "\n",
    "Определить как различные факторы влияют на желание сменить работу.\n",
    "\n",
    "## Данные\n",
    "- Источник данных: https://www.kaggle.com/datasets/arashnic/hr-analytics-job-change-of-data-scientists\n",
    "- Набор данных содержит информацию о 19158 специалистах, включая такие переменные, как:\n",
    "\n",
    "enrollee_id: уникальный идентификатор кандидата;\n",
    "\n",
    "city: код города;\n",
    "\n",
    "city_development _index: индекс развития города; \n",
    "\n",
    "gender: Пол кандидата;\n",
    "\n",
    "relevent_experience: релевантный опыт кандидата;\n",
    "\n",
    "enrolled_university: тип текущего обучения, если имеется (маркер времени, которое кандидат тратит на учебу);\n",
    "\n",
    "education_level: уровень образования;\n",
    "\n",
    "major_discipline: основная дисциплина кандидата\n",
    " \n",
    "experience: общий опыт кандидата в годах;\n",
    "\n",
    "Company_size: количество сотрудников в компании текущего работодателя;\n",
    "\n",
    "Company_type: тип текущего работодателя;\n",
    "\n",
    "Last_new_job: разница в годах между предыдущим и текущим местом работы;\n",
    "\n",
    "Training_hours: количество часов обучения;\n",
    "\n",
    "Target: 0 – не готов менять работу, 1 – готов менять работу.\n",
    "\n",
    "## Методы и инструменты\n",
    "\n",
    "#### Методы анализа:\n",
    "- тест Хи-квадрат, тест Фишера, коэффициент корреляции между категориальными переменными;\n",
    "- визуализация данных;\n",
    "- сводные таблицы.\n",
    "\n",
    "#### Использованные библиотеки: \n",
    "Pandas, NumPy, Matplotlib, Seaborn, Phik, Re, Scipy, IPython.\n",
    "\n",
    "## Процесс работы\n",
    "1. Загрузка и предварительный анализ набора данных, включающий проверку на пропуски и аномалии.\n",
    "2. Преобразование и очистка данных.\n",
    "3. Анализ данных.\n",
    "\n",
    "## Формулировка гипотез для статистических тестов:\n",
    "\n",
    "* Нулевая гипотеза (H0): Нет статистически значимой связи между двумя переменными. То есть распределение одной переменной не зависит от другой.\n",
    "* Альтернативная гипотеза (H1): Есть статистически значимая связь между двумя переменными. Это означает, что распределение одной переменной зависит от другой."
   ]
  },
  {
   "cell_type": "markdown",
   "id": "f8bdab8d-0e79-4d34-a3a8-84bca70febda",
   "metadata": {},
   "source": [
    "# Импортирование необходимых библиотек"
   ]
  },
  {
   "cell_type": "code",
   "execution_count": 2051,
   "id": "339e3e50-1fd1-41f3-92ca-1a90252712bc",
   "metadata": {},
   "outputs": [],
   "source": [
    "import pandas as pd\n",
    "import matplotlib.pyplot as plt\n",
    "import numpy as np\n",
    "import seaborn as sns\n",
    "import phik \n",
    "import re \n",
    "import scipy.stats as stats\n",
    "from scipy.stats import chi2_contingency\n",
    "from IPython.display import Markdown"
   ]
  },
  {
   "cell_type": "markdown",
   "id": "c3138412-9406-475a-bb19-e9b25fa07bad",
   "metadata": {},
   "source": [
    "# Настройка визуализации"
   ]
  },
  {
   "cell_type": "code",
   "execution_count": 2052,
   "id": "21a5c7d0-544e-419e-af85-7a6e5f3af7e1",
   "metadata": {},
   "outputs": [],
   "source": [
    "plt.style.use('dark_background')"
   ]
  },
  {
   "cell_type": "markdown",
   "id": "39291e92-48a7-46b6-91d2-1bccae199a6e",
   "metadata": {},
   "source": [
    "# Чтение данных"
   ]
  },
  {
   "cell_type": "code",
   "execution_count": 2053,
   "id": "066d0621-3b03-46af-889d-3b28ed703ca7",
   "metadata": {},
   "outputs": [
    {
     "data": {
      "text/html": [
       "<div>\n",
       "<style scoped>\n",
       "    .dataframe tbody tr th:only-of-type {\n",
       "        vertical-align: middle;\n",
       "    }\n",
       "\n",
       "    .dataframe tbody tr th {\n",
       "        vertical-align: top;\n",
       "    }\n",
       "\n",
       "    .dataframe thead th {\n",
       "        text-align: right;\n",
       "    }\n",
       "</style>\n",
       "<table border=\"1\" class=\"dataframe\">\n",
       "  <thead>\n",
       "    <tr style=\"text-align: right;\">\n",
       "      <th></th>\n",
       "      <th>enrollee_id</th>\n",
       "      <th>city</th>\n",
       "      <th>city_development_index</th>\n",
       "      <th>gender</th>\n",
       "      <th>relevent_experience</th>\n",
       "      <th>enrolled_university</th>\n",
       "      <th>education_level</th>\n",
       "      <th>major_discipline</th>\n",
       "      <th>experience</th>\n",
       "      <th>company_size</th>\n",
       "      <th>company_type</th>\n",
       "      <th>last_new_job</th>\n",
       "      <th>training_hours</th>\n",
       "      <th>target</th>\n",
       "    </tr>\n",
       "  </thead>\n",
       "  <tbody>\n",
       "    <tr>\n",
       "      <th>0</th>\n",
       "      <td>8949</td>\n",
       "      <td>city_103</td>\n",
       "      <td>0.920</td>\n",
       "      <td>Male</td>\n",
       "      <td>Has relevent experience</td>\n",
       "      <td>no_enrollment</td>\n",
       "      <td>Graduate</td>\n",
       "      <td>STEM</td>\n",
       "      <td>&gt;20</td>\n",
       "      <td>NaN</td>\n",
       "      <td>NaN</td>\n",
       "      <td>1</td>\n",
       "      <td>36</td>\n",
       "      <td>1.0</td>\n",
       "    </tr>\n",
       "    <tr>\n",
       "      <th>1</th>\n",
       "      <td>29725</td>\n",
       "      <td>city_40</td>\n",
       "      <td>0.776</td>\n",
       "      <td>Male</td>\n",
       "      <td>No relevent experience</td>\n",
       "      <td>no_enrollment</td>\n",
       "      <td>Graduate</td>\n",
       "      <td>STEM</td>\n",
       "      <td>15</td>\n",
       "      <td>50-99</td>\n",
       "      <td>Pvt Ltd</td>\n",
       "      <td>&gt;4</td>\n",
       "      <td>47</td>\n",
       "      <td>0.0</td>\n",
       "    </tr>\n",
       "    <tr>\n",
       "      <th>2</th>\n",
       "      <td>11561</td>\n",
       "      <td>city_21</td>\n",
       "      <td>0.624</td>\n",
       "      <td>NaN</td>\n",
       "      <td>No relevent experience</td>\n",
       "      <td>Full time course</td>\n",
       "      <td>Graduate</td>\n",
       "      <td>STEM</td>\n",
       "      <td>5</td>\n",
       "      <td>NaN</td>\n",
       "      <td>NaN</td>\n",
       "      <td>never</td>\n",
       "      <td>83</td>\n",
       "      <td>0.0</td>\n",
       "    </tr>\n",
       "    <tr>\n",
       "      <th>3</th>\n",
       "      <td>33241</td>\n",
       "      <td>city_115</td>\n",
       "      <td>0.789</td>\n",
       "      <td>NaN</td>\n",
       "      <td>No relevent experience</td>\n",
       "      <td>NaN</td>\n",
       "      <td>Graduate</td>\n",
       "      <td>Business Degree</td>\n",
       "      <td>&lt;1</td>\n",
       "      <td>NaN</td>\n",
       "      <td>Pvt Ltd</td>\n",
       "      <td>never</td>\n",
       "      <td>52</td>\n",
       "      <td>1.0</td>\n",
       "    </tr>\n",
       "    <tr>\n",
       "      <th>4</th>\n",
       "      <td>666</td>\n",
       "      <td>city_162</td>\n",
       "      <td>0.767</td>\n",
       "      <td>Male</td>\n",
       "      <td>Has relevent experience</td>\n",
       "      <td>no_enrollment</td>\n",
       "      <td>Masters</td>\n",
       "      <td>STEM</td>\n",
       "      <td>&gt;20</td>\n",
       "      <td>50-99</td>\n",
       "      <td>Funded Startup</td>\n",
       "      <td>4</td>\n",
       "      <td>8</td>\n",
       "      <td>0.0</td>\n",
       "    </tr>\n",
       "  </tbody>\n",
       "</table>\n",
       "</div>"
      ],
      "text/plain": [
       "   enrollee_id      city  city_development_index gender  \\\n",
       "0         8949  city_103                   0.920   Male   \n",
       "1        29725   city_40                   0.776   Male   \n",
       "2        11561   city_21                   0.624    NaN   \n",
       "3        33241  city_115                   0.789    NaN   \n",
       "4          666  city_162                   0.767   Male   \n",
       "\n",
       "       relevent_experience enrolled_university education_level  \\\n",
       "0  Has relevent experience       no_enrollment        Graduate   \n",
       "1   No relevent experience       no_enrollment        Graduate   \n",
       "2   No relevent experience    Full time course        Graduate   \n",
       "3   No relevent experience                 NaN        Graduate   \n",
       "4  Has relevent experience       no_enrollment         Masters   \n",
       "\n",
       "  major_discipline experience company_size    company_type last_new_job  \\\n",
       "0             STEM        >20          NaN             NaN            1   \n",
       "1             STEM         15        50-99         Pvt Ltd           >4   \n",
       "2             STEM          5          NaN             NaN        never   \n",
       "3  Business Degree         <1          NaN         Pvt Ltd        never   \n",
       "4             STEM        >20        50-99  Funded Startup            4   \n",
       "\n",
       "   training_hours  target  \n",
       "0              36     1.0  \n",
       "1              47     0.0  \n",
       "2              83     0.0  \n",
       "3              52     1.0  \n",
       "4               8     0.0  "
      ]
     },
     "execution_count": 2053,
     "metadata": {},
     "output_type": "execute_result"
    }
   ],
   "source": [
    "path = '/Users/user/Desktop/данные/aug_train.csv' \n",
    "df = pd.read_csv(path)\n",
    "df.head()"
   ]
  },
  {
   "cell_type": "markdown",
   "id": "b7574585-845e-4912-b63c-4727756e32b7",
   "metadata": {},
   "source": [
    "# Предварительный анализ и обработка данных\n",
    "#### Есть ли какие-либо переменные, которые требуют очистки, замены значений, преобразования типов или разбиения на новые катогрии?"
   ]
  },
  {
   "cell_type": "code",
   "execution_count": 2054,
   "id": "c24b2186-a443-452f-9c0b-e62757b2b346",
   "metadata": {},
   "outputs": [
    {
     "name": "stdout",
     "output_type": "stream",
     "text": [
      "<class 'pandas.core.frame.DataFrame'>\n",
      "RangeIndex: 19158 entries, 0 to 19157\n",
      "Data columns (total 14 columns):\n",
      " #   Column                  Non-Null Count  Dtype  \n",
      "---  ------                  --------------  -----  \n",
      " 0   enrollee_id             19158 non-null  int64  \n",
      " 1   city                    19158 non-null  object \n",
      " 2   city_development_index  19158 non-null  float64\n",
      " 3   gender                  14650 non-null  object \n",
      " 4   relevent_experience     19158 non-null  object \n",
      " 5   enrolled_university     18772 non-null  object \n",
      " 6   education_level         18698 non-null  object \n",
      " 7   major_discipline        16345 non-null  object \n",
      " 8   experience              19093 non-null  object \n",
      " 9   company_size            13220 non-null  object \n",
      " 10  company_type            13018 non-null  object \n",
      " 11  last_new_job            18735 non-null  object \n",
      " 12  training_hours          19158 non-null  int64  \n",
      " 13  target                  19158 non-null  float64\n",
      "dtypes: float64(2), int64(2), object(10)\n",
      "memory usage: 2.0+ MB\n"
     ]
    }
   ],
   "source": [
    "# Проверка типов\n",
    "df.info()"
   ]
  },
  {
   "cell_type": "code",
   "execution_count": 2055,
   "id": "4c995c80-df2b-4859-97b5-1620ccd5705d",
   "metadata": {},
   "outputs": [
    {
     "data": {
      "text/plain": [
       "company_type              0.320493\n",
       "company_size              0.309949\n",
       "gender                    0.235306\n",
       "major_discipline          0.146832\n",
       "education_level           0.024011\n",
       "last_new_job              0.022080\n",
       "enrolled_university       0.020148\n",
       "experience                0.003393\n",
       "enrollee_id               0.000000\n",
       "city                      0.000000\n",
       "city_development_index    0.000000\n",
       "relevent_experience       0.000000\n",
       "training_hours            0.000000\n",
       "target                    0.000000\n",
       "dtype: float64"
      ]
     },
     "execution_count": 2055,
     "metadata": {},
     "output_type": "execute_result"
    }
   ],
   "source": [
    "# Проверка пропусков\n",
    "df.isna().mean().sort_values(ascending=False) "
   ]
  },
  {
   "cell_type": "markdown",
   "id": "6b6d14e7-a3ce-4f7b-9223-318037acdbb3",
   "metadata": {},
   "source": [
    "Принимаем решение не обрабатывать пропуски, чтобы не искажать данные и не использовать значения с пропусками в дальнейшем анализе"
   ]
  },
  {
   "cell_type": "code",
   "execution_count": 2056,
   "id": "f31d8252-28dd-4421-8a18-7b24bcc2ebf4",
   "metadata": {},
   "outputs": [
    {
     "data": {
      "text/plain": [
       "Male      13221\n",
       "Female     1238\n",
       "Other       191\n",
       "Name: gender, dtype: int64"
      ]
     },
     "execution_count": 2056,
     "metadata": {},
     "output_type": "execute_result"
    }
   ],
   "source": [
    "# Проверка уникальных значений и их количества\n",
    "df['gender'].value_counts()"
   ]
  },
  {
   "cell_type": "code",
   "execution_count": 2057,
   "id": "9bb95fd7-bf2a-435b-afac-17a3a780843f",
   "metadata": {},
   "outputs": [
    {
     "data": {
      "text/plain": [
       "Graduate          11598\n",
       "Masters            4361\n",
       "High School        2017\n",
       "Phd                 414\n",
       "Primary School      308\n",
       "Name: education_level, dtype: int64"
      ]
     },
     "execution_count": 2057,
     "metadata": {},
     "output_type": "execute_result"
    }
   ],
   "source": [
    "# Проверка уникальных значений и их количества\n",
    "df['education_level'].value_counts()"
   ]
  },
  {
   "cell_type": "markdown",
   "id": "cb228b69-dfd0-4aed-9fc2-8dd8bb0cc924",
   "metadata": {},
   "source": [
    "Избавимся от излишней детализации и рассмотрим только наличие высшего или среднего образования."
   ]
  },
  {
   "cell_type": "code",
   "execution_count": 2089,
   "id": "1530adee-c2c2-4f2a-bb90-046e0b5b8dc5",
   "metadata": {},
   "outputs": [],
   "source": [
    "# Функция для разделения уровня образования на 2 группы\n",
    "def edication_group(x):\n",
    "    if x in ['Primary School', 'High School']:\n",
    "        return 'School'\n",
    "    if x in ['Graduate', 'Masters','Phd']:\n",
    "        return 'Graduate'\n",
    "    return x "
   ]
  },
  {
   "cell_type": "code",
   "execution_count": 2059,
   "id": "fa762331-c501-4160-9e34-31ea7f2c27fe",
   "metadata": {},
   "outputs": [],
   "source": [
    "# Применение функции к столбцу\n",
    "df['education_level_group'] = df['education_level'].apply(edication_group)"
   ]
  },
  {
   "cell_type": "code",
   "execution_count": 2060,
   "id": "26808cb4-d38c-42bf-bfaa-bd74bdcac364",
   "metadata": {},
   "outputs": [
    {
     "data": {
      "text/plain": [
       "Graduate    16373\n",
       "School       2325\n",
       "Name: education_level_group, dtype: int64"
      ]
     },
     "execution_count": 2060,
     "metadata": {},
     "output_type": "execute_result"
    }
   ],
   "source": [
    "# Проверка уникальных значений и их количества\n",
    "df['education_level_group'].value_counts()"
   ]
  },
  {
   "cell_type": "code",
   "execution_count": 2061,
   "id": "626e45ad-9b18-46c8-880b-5a88b84d3e17",
   "metadata": {},
   "outputs": [
    {
     "data": {
      "text/plain": [
       "no_enrollment       13817\n",
       "Full time course     3757\n",
       "Part time course     1198\n",
       "Name: enrolled_university, dtype: int64"
      ]
     },
     "execution_count": 2061,
     "metadata": {},
     "output_type": "execute_result"
    }
   ],
   "source": [
    "# Проверка уникальных значений и их количества\n",
    "df['enrolled_university'].value_counts()"
   ]
  },
  {
   "cell_type": "code",
   "execution_count": 2062,
   "id": "7f9b7e4c-1d72-4607-bd69-d5ae2d48073e",
   "metadata": {},
   "outputs": [
    {
     "data": {
      "text/plain": [
       "STEM               14492\n",
       "Humanities           669\n",
       "Other                381\n",
       "Business Degree      327\n",
       "Arts                 253\n",
       "No Major             223\n",
       "Name: major_discipline, dtype: int64"
      ]
     },
     "execution_count": 2062,
     "metadata": {},
     "output_type": "execute_result"
    }
   ],
   "source": [
    "# Проверка уникальных значений и их количества\n",
    "df['major_discipline'].value_counts()"
   ]
  },
  {
   "cell_type": "code",
   "execution_count": 2063,
   "id": "b08a2c76-984d-4738-a99b-81ed91171877",
   "metadata": {},
   "outputs": [
    {
     "data": {
      "text/plain": [
       "Pvt Ltd                9817\n",
       "Funded Startup         1001\n",
       "Public Sector           955\n",
       "Early Stage Startup     603\n",
       "NGO                     521\n",
       "Other                   121\n",
       "Name: company_type, dtype: int64"
      ]
     },
     "execution_count": 2063,
     "metadata": {},
     "output_type": "execute_result"
    }
   ],
   "source": [
    "# Проверка уникальных значений и их количества\n",
    "df['company_type'].value_counts()"
   ]
  },
  {
   "cell_type": "code",
   "execution_count": 2064,
   "id": "b7290bfd-5c32-4c55-a8ec-5074e82aa342",
   "metadata": {},
   "outputs": [
    {
     "data": {
      "text/plain": [
       ">20    3286\n",
       "5      1430\n",
       "4      1403\n",
       "3      1354\n",
       "6      1216\n",
       "2      1127\n",
       "7      1028\n",
       "10      985\n",
       "9       980\n",
       "8       802\n",
       "15      686\n",
       "11      664\n",
       "14      586\n",
       "1       549\n",
       "<1      522\n",
       "16      508\n",
       "12      494\n",
       "13      399\n",
       "17      342\n",
       "19      304\n",
       "18      280\n",
       "20      148\n",
       "Name: experience, dtype: int64"
      ]
     },
     "execution_count": 2064,
     "metadata": {},
     "output_type": "execute_result"
    }
   ],
   "source": [
    "# Проверка уникальных значений и их числа\n",
    "df['experience'].value_counts()"
   ]
  },
  {
   "cell_type": "code",
   "execution_count": 2065,
   "id": "fc29b910-3975-4dc2-bd85-ea47e25f40bd",
   "metadata": {},
   "outputs": [],
   "source": [
    "# Очистка заменами и заполнением пропусков, смена типа\n",
    "df['experience'] = df['experience'].replace('>20', '25').replace('<1', '0').fillna(-1).astype(int)"
   ]
  },
  {
   "cell_type": "code",
   "execution_count": 2066,
   "id": "1e7d3df3-7d07-4a53-8d45-33375494c487",
   "metadata": {},
   "outputs": [
    {
     "data": {
      "text/plain": [
       "<bound method Series.sort_values of  25    3286\n",
       " 5     1430\n",
       " 4     1403\n",
       " 3     1354\n",
       " 6     1216\n",
       " 2     1127\n",
       " 7     1028\n",
       " 10     985\n",
       " 9      980\n",
       " 8      802\n",
       " 15     686\n",
       " 11     664\n",
       " 14     586\n",
       " 1      549\n",
       " 0      522\n",
       " 16     508\n",
       " 12     494\n",
       " 13     399\n",
       " 17     342\n",
       " 19     304\n",
       " 18     280\n",
       " 20     148\n",
       "-1       65\n",
       "Name: experience, dtype: int64>"
      ]
     },
     "execution_count": 2066,
     "metadata": {},
     "output_type": "execute_result"
    }
   ],
   "source": [
    "# Количество уникальных значений столбца\n",
    "df['experience'].value_counts().sort_values"
   ]
  },
  {
   "cell_type": "code",
   "execution_count": 2067,
   "id": "b6247c00-7170-49bf-8564-5b6c9b7f9c30",
   "metadata": {},
   "outputs": [],
   "source": [
    "# Разбиение столбца с непрерывными значениями на равные отрезки\n",
    "df['experience_group'] = pd.cut(df['experience'], [-0.5, 5.0, 10.0, 15.0, 25.0])"
   ]
  },
  {
   "cell_type": "code",
   "execution_count": 2068,
   "id": "084c31ce-1446-4425-9fc7-e2daaae819a6",
   "metadata": {},
   "outputs": [
    {
     "data": {
      "text/plain": [
       "<bound method Series.sort_values of (-0.5, 5.0]     6385\n",
       "(5.0, 10.0]     5011\n",
       "(15.0, 25.0]    4868\n",
       "(10.0, 15.0]    2829\n",
       "Name: experience_group, dtype: int64>"
      ]
     },
     "execution_count": 2068,
     "metadata": {},
     "output_type": "execute_result"
    }
   ],
   "source": [
    "# Количество уникальных значений столбца\n",
    "df['experience_group'].value_counts().sort_values"
   ]
  },
  {
   "cell_type": "code",
   "execution_count": 2069,
   "id": "40b543e0-f525-44cf-b010-6a533c0c8ae0",
   "metadata": {},
   "outputs": [
    {
     "data": {
      "text/plain": [
       "50-99        3083\n",
       "100-500      2571\n",
       "10000+       2019\n",
       "10/49        1471\n",
       "1000-4999    1328\n",
       "<10          1308\n",
       "500-999       877\n",
       "5000-9999     563\n",
       "Name: company_size, dtype: int64"
      ]
     },
     "execution_count": 2069,
     "metadata": {},
     "output_type": "execute_result"
    }
   ],
   "source": [
    "# Проверка уникальных значений и их количества\n",
    "df['company_size'].value_counts()"
   ]
  },
  {
   "cell_type": "code",
   "execution_count": 2070,
   "id": "4fe992b8-831a-4de1-beb7-4e36f70c8379",
   "metadata": {},
   "outputs": [],
   "source": [
    "df['company_size'] = df['company_size'].replace('10/49', '10-49')"
   ]
  },
  {
   "cell_type": "code",
   "execution_count": 2071,
   "id": "4b599834-63ae-48de-b8a6-f1aae0bc65d6",
   "metadata": {},
   "outputs": [
    {
     "data": {
      "text/plain": [
       "50-99        3083\n",
       "100-500      2571\n",
       "10000+       2019\n",
       "10-49        1471\n",
       "1000-4999    1328\n",
       "<10          1308\n",
       "500-999       877\n",
       "5000-9999     563\n",
       "Name: company_size, dtype: int64"
      ]
     },
     "execution_count": 2071,
     "metadata": {},
     "output_type": "execute_result"
    }
   ],
   "source": [
    "# Проверка правильности выполненных действий\n",
    "df['company_size'].value_counts()"
   ]
  },
  {
   "cell_type": "code",
   "execution_count": 2072,
   "id": "0a92ef37-019a-436f-9b7b-8fc8189ad430",
   "metadata": {},
   "outputs": [
    {
     "data": {
      "text/plain": [
       "1        8040\n",
       ">4       3290\n",
       "2        2900\n",
       "never    2452\n",
       "4        1029\n",
       "3        1024\n",
       "Name: last_new_job, dtype: int64"
      ]
     },
     "execution_count": 2072,
     "metadata": {},
     "output_type": "execute_result"
    }
   ],
   "source": [
    "# Проверка уникальных значений и их количества\n",
    "df['last_new_job'].value_counts()"
   ]
  },
  {
   "cell_type": "code",
   "execution_count": 2073,
   "id": "aa6fefe6-7e47-4fea-bce4-a313e5c3ced5",
   "metadata": {},
   "outputs": [],
   "source": [
    "# Очистка заменой, преобразование типа\n",
    "df['last_new_job'] = df['last_new_job'].replace('never', 0).astype('category') "
   ]
  },
  {
   "cell_type": "code",
   "execution_count": 2074,
   "id": "f716edb8-46ab-48c6-93ff-b76184eee4ae",
   "metadata": {},
   "outputs": [
    {
     "data": {
      "text/plain": [
       "1     8040\n",
       ">4    3290\n",
       "2     2900\n",
       "0     2452\n",
       "4     1029\n",
       "3     1024\n",
       "Name: last_new_job, dtype: int64"
      ]
     },
     "execution_count": 2074,
     "metadata": {},
     "output_type": "execute_result"
    }
   ],
   "source": [
    "# Проверка правильности действий\n",
    "df['last_new_job'].value_counts()"
   ]
  },
  {
   "cell_type": "code",
   "execution_count": 2075,
   "id": "7a27072e-fa25-4719-846a-344e600709a4",
   "metadata": {},
   "outputs": [
    {
     "data": {
      "image/png": "[encoded data removed]",
      "text/plain": [
       "<Figure size 640x480 with 1 Axes>"
      ]
     },
     "metadata": {},
     "output_type": "display_data"
    }
   ],
   "source": [
    "# Построение Box plot\n",
    "df['training_hours'].plot(kind='box', \n",
    "                                         patch_artist=True, \n",
    "                                         medianprops=dict(color='red', linewidth=1),  # Яркая медиана\n",
    "                                         boxprops=dict(facecolor='lightblue', edgecolor='white'),  # Цвет коробки с белым ободком\n",
    "                                         whiskerprops=dict(color='white'),  # Цвет усов\n",
    "                                         capprops=dict(color='white'),  # Цвет капелек\n",
    "                                         flierprops=dict(markerfacecolor='blue', marker='o', markeredgecolor='white'))  # Цвет выбросов\n",
    "\n",
    "# Добавление сетки\n",
    "plt.grid(axis='y', linestyle='--', alpha=0.7)"
   ]
  },
  {
   "cell_type": "markdown",
   "id": "95dad79b-7818-4fd6-937a-6118d8b2249e",
   "metadata": {},
   "source": [
    "Наличие выбросов и асимметрии указывает на значительный дисбаланс между выборками. Чтобы повысить статистическую значимость последующего анализа, разделим значения на несколько категорий."
   ]
  },
  {
   "cell_type": "code",
   "execution_count": 2076,
   "id": "b26697a9-e9d6-4537-ad9a-8836606acb9b",
   "metadata": {},
   "outputs": [],
   "source": [
    "# Разбиение столбца с непрерывными значениями на равные по количеству людей категории\n",
    "df['training_hours_group'] = pd.qcut(df['training_hours'], 4, duplicates='drop')"
   ]
  },
  {
   "cell_type": "code",
   "execution_count": 2077,
   "id": "ff76c0e5-cfab-43db-9a00-f149e7294cc9",
   "metadata": {},
   "outputs": [
    {
     "data": {
      "text/html": [
       "<div>\n",
       "<style scoped>\n",
       "    .dataframe tbody tr th:only-of-type {\n",
       "        vertical-align: middle;\n",
       "    }\n",
       "\n",
       "    .dataframe tbody tr th {\n",
       "        vertical-align: top;\n",
       "    }\n",
       "\n",
       "    .dataframe thead th {\n",
       "        text-align: right;\n",
       "    }\n",
       "</style>\n",
       "<table border=\"1\" class=\"dataframe\">\n",
       "  <thead>\n",
       "    <tr style=\"text-align: right;\">\n",
       "      <th></th>\n",
       "      <th>count</th>\n",
       "    </tr>\n",
       "    <tr>\n",
       "      <th>training_hours_group</th>\n",
       "      <th></th>\n",
       "    </tr>\n",
       "  </thead>\n",
       "  <tbody>\n",
       "    <tr>\n",
       "      <th>(0.999, 23.0]</th>\n",
       "      <td>4923</td>\n",
       "    </tr>\n",
       "    <tr>\n",
       "      <th>(23.0, 47.0]</th>\n",
       "      <td>4706</td>\n",
       "    </tr>\n",
       "    <tr>\n",
       "      <th>(47.0, 88.0]</th>\n",
       "      <td>4748</td>\n",
       "    </tr>\n",
       "    <tr>\n",
       "      <th>(88.0, 336.0]</th>\n",
       "      <td>4781</td>\n",
       "    </tr>\n",
       "  </tbody>\n",
       "</table>\n",
       "</div>"
      ],
      "text/plain": [
       "                      count\n",
       "training_hours_group       \n",
       "(0.999, 23.0]          4923\n",
       "(23.0, 47.0]           4706\n",
       "(47.0, 88.0]           4748\n",
       "(88.0, 336.0]          4781"
      ]
     },
     "execution_count": 2077,
     "metadata": {},
     "output_type": "execute_result"
    }
   ],
   "source": [
    "# Проверка частоты в каждой группе\n",
    "df.groupby(['training_hours_group'])['target'].agg(['count'])"
   ]
  },
  {
   "cell_type": "code",
   "execution_count": 2078,
   "id": "542a879a-f982-44fb-b94c-d47da1144844",
   "metadata": {},
   "outputs": [
    {
     "data": {
      "image/png": "[encoded data removed]",
      "text/plain": [
       "<Figure size 640x480 with 1 Axes>"
      ]
     },
     "metadata": {},
     "output_type": "display_data"
    }
   ],
   "source": [
    "# Установка стиля seaborn для более приятного оформления\n",
    "df['city_development_index'].plot(kind='box', \n",
    "                                         patch_artist=True, \n",
    "                                         medianprops=dict(color='red', linewidth=1),  # Яркая медиана\n",
    "                                         boxprops=dict(facecolor='lightblue', edgecolor='white'),  # Цвет коробки с белым ободком\n",
    "                                         whiskerprops=dict(color='white'),  # Цвет усов\n",
    "                                         capprops=dict(color='white'),  # Цвет капелек\n",
    "                                         flierprops=dict(markerfacecolor='blue', marker='o', markeredgecolor='white'))  # Цвет выбросов\n",
    "\n",
    "# Добавление сетки\n",
    "plt.grid(axis='y', linestyle='--', alpha=0.7)"
   ]
  },
  {
   "cell_type": "markdown",
   "id": "534dd682-5161-431e-8d0e-fcdbf0c6d120",
   "metadata": {},
   "source": [
    "Наличие выбросов и асимметрии указывает на значительный дисбаланс между выборками. Чтобы повысить статистическую значимость последующего анализа, разделим значения на несколько категорий."
   ]
  },
  {
   "cell_type": "code",
   "execution_count": 2079,
   "id": "c11e8884-1cef-4b1e-9055-0d8546874547",
   "metadata": {},
   "outputs": [],
   "source": [
    "df['city_development_index_group'] = pd.qcut(df['city_development_index'], 7, duplicates = 'drop')"
   ]
  },
  {
   "cell_type": "code",
   "execution_count": 2080,
   "id": "05f40d0e-e317-457c-a372-49971c9022b1",
   "metadata": {},
   "outputs": [
    {
     "data": {
      "text/plain": [
       "(0.91, 0.92]      5491\n",
       "(0.447, 0.624]    3427\n",
       "(0.887, 0.91]     2893\n",
       "(0.766, 0.887]    2725\n",
       "(0.92, 0.949]     2537\n",
       "(0.624, 0.766]    2085\n",
       "Name: city_development_index_group, dtype: int64"
      ]
     },
     "execution_count": 2080,
     "metadata": {},
     "output_type": "execute_result"
    }
   ],
   "source": [
    "# Проверка частоты в каждой категории\n",
    "df['city_development_index_group'].value_counts(ascending=False)"
   ]
  },
  {
   "cell_type": "code",
   "execution_count": 2081,
   "id": "a5f7f856-ae31-41fa-b2e8-e43ad7ea2422",
   "metadata": {},
   "outputs": [
    {
     "data": {
      "text/html": [
       "<div>\n",
       "<style scoped>\n",
       "    .dataframe tbody tr th:only-of-type {\n",
       "        vertical-align: middle;\n",
       "    }\n",
       "\n",
       "    .dataframe tbody tr th {\n",
       "        vertical-align: top;\n",
       "    }\n",
       "\n",
       "    .dataframe thead th {\n",
       "        text-align: right;\n",
       "    }\n",
       "</style>\n",
       "<table border=\"1\" class=\"dataframe\">\n",
       "  <thead>\n",
       "    <tr style=\"text-align: right;\">\n",
       "      <th></th>\n",
       "      <th>count</th>\n",
       "      <th>sum</th>\n",
       "      <th>mean</th>\n",
       "    </tr>\n",
       "    <tr>\n",
       "      <th>city</th>\n",
       "      <th></th>\n",
       "      <th></th>\n",
       "      <th></th>\n",
       "    </tr>\n",
       "  </thead>\n",
       "  <tbody>\n",
       "    <tr>\n",
       "      <th>city_140</th>\n",
       "      <td>1</td>\n",
       "      <td>0.0</td>\n",
       "      <td>0.000000</td>\n",
       "    </tr>\n",
       "    <tr>\n",
       "      <th>city_171</th>\n",
       "      <td>1</td>\n",
       "      <td>1.0</td>\n",
       "      <td>1.000000</td>\n",
       "    </tr>\n",
       "    <tr>\n",
       "      <th>city_111</th>\n",
       "      <td>3</td>\n",
       "      <td>0.0</td>\n",
       "      <td>0.000000</td>\n",
       "    </tr>\n",
       "    <tr>\n",
       "      <th>city_121</th>\n",
       "      <td>3</td>\n",
       "      <td>1.0</td>\n",
       "      <td>0.333333</td>\n",
       "    </tr>\n",
       "    <tr>\n",
       "      <th>city_129</th>\n",
       "      <td>3</td>\n",
       "      <td>0.0</td>\n",
       "      <td>0.000000</td>\n",
       "    </tr>\n",
       "    <tr>\n",
       "      <th>city_166</th>\n",
       "      <td>4</td>\n",
       "      <td>1.0</td>\n",
       "      <td>0.250000</td>\n",
       "    </tr>\n",
       "    <tr>\n",
       "      <th>city_18</th>\n",
       "      <td>4</td>\n",
       "      <td>1.0</td>\n",
       "      <td>0.250000</td>\n",
       "    </tr>\n",
       "    <tr>\n",
       "      <th>city_25</th>\n",
       "      <td>4</td>\n",
       "      <td>2.0</td>\n",
       "      <td>0.500000</td>\n",
       "    </tr>\n",
       "    <tr>\n",
       "      <th>city_31</th>\n",
       "      <td>4</td>\n",
       "      <td>1.0</td>\n",
       "      <td>0.250000</td>\n",
       "    </tr>\n",
       "    <tr>\n",
       "      <th>city_8</th>\n",
       "      <td>4</td>\n",
       "      <td>0.0</td>\n",
       "      <td>0.000000</td>\n",
       "    </tr>\n",
       "    <tr>\n",
       "      <th>city_82</th>\n",
       "      <td>4</td>\n",
       "      <td>0.0</td>\n",
       "      <td>0.000000</td>\n",
       "    </tr>\n",
       "    <tr>\n",
       "      <th>city_139</th>\n",
       "      <td>5</td>\n",
       "      <td>4.0</td>\n",
       "      <td>0.800000</td>\n",
       "    </tr>\n",
       "    <tr>\n",
       "      <th>city_179</th>\n",
       "      <td>5</td>\n",
       "      <td>3.0</td>\n",
       "      <td>0.600000</td>\n",
       "    </tr>\n",
       "    <tr>\n",
       "      <th>city_62</th>\n",
       "      <td>5</td>\n",
       "      <td>0.0</td>\n",
       "      <td>0.000000</td>\n",
       "    </tr>\n",
       "    <tr>\n",
       "      <th>city_107</th>\n",
       "      <td>6</td>\n",
       "      <td>4.0</td>\n",
       "      <td>0.666667</td>\n",
       "    </tr>\n",
       "  </tbody>\n",
       "</table>\n",
       "</div>"
      ],
      "text/plain": [
       "          count  sum      mean\n",
       "city                          \n",
       "city_140      1  0.0  0.000000\n",
       "city_171      1  1.0  1.000000\n",
       "city_111      3  0.0  0.000000\n",
       "city_121      3  1.0  0.333333\n",
       "city_129      3  0.0  0.000000\n",
       "city_166      4  1.0  0.250000\n",
       "city_18       4  1.0  0.250000\n",
       "city_25       4  2.0  0.500000\n",
       "city_31       4  1.0  0.250000\n",
       "city_8        4  0.0  0.000000\n",
       "city_82       4  0.0  0.000000\n",
       "city_139      5  4.0  0.800000\n",
       "city_179      5  3.0  0.600000\n",
       "city_62       5  0.0  0.000000\n",
       "city_107      6  4.0  0.666667"
      ]
     },
     "execution_count": 2081,
     "metadata": {},
     "output_type": "execute_result"
    }
   ],
   "source": [
    "# Группировка по городу и вычисление агрегатных функций\n",
    "agg_data = df.groupby('city')['target'].agg(['count', 'sum', 'mean'])\n",
    "\n",
    "# Выбор топ-10 городов с наименьшим количеством\n",
    "agg_data.nsmallest(15, 'count')"
   ]
  },
  {
   "cell_type": "markdown",
   "id": "b3e8dc9e-24c6-4bc5-8ddb-828851d94f81",
   "metadata": {},
   "source": [
    "В категориях наблюдается очень низкая частота (менее 30 человек). Не будем рассматривать влияние данной переменной на желание сменить работу, поскольку не сможем получить статистически значимого результата."
   ]
  },
  {
   "cell_type": "code",
   "execution_count": 2082,
   "id": "8d504c6f-bd95-45ff-803e-b215e8c9e079",
   "metadata": {},
   "outputs": [],
   "source": [
    "# Функция для построения сводной таблицы, гистограммы и проведения статистического теста\n",
    "def pvt_plt_stest(x):\n",
    "    y = 'target'\n",
    "    display(Markdown(f\"## Влияние переменной  **{x}** на желание сменить работу.\"))\n",
    "    # Построение сводной таблицы\n",
    "    result = df.groupby(x)[y].agg(['count','sum','mean']).sort_values('mean', ascending=False)\n",
    "    # Переименование стобцов таблицы\n",
    "    result = result.rename(columns={'sum': 'absolute value', 'mean': 'proportion'})\n",
    "    # Построение гистограммы\n",
    "    ax = df.groupby(x)[y].agg(['mean']).sort_values('mean', ascending=False).plot(kind='bar') \n",
    "    ax.legend().set_visible(False) # удаление легенды\n",
    "    # Добавление подписи графика сбоку\n",
    "    plt.title('Доля желающих сменить работу в каждой категории переменной ' + x)\n",
    "    plt.ylabel('proportion')\n",
    "    # Вывод результатов\n",
    "    display(result)\n",
    "    plt.show()\n",
    "    text_box = widgets.Textarea(layout=widgets.Layout(width='100%', height='60px')) # текстовая ячейка\n",
    "    display(Markdown(f\"#### Является ли данный результат статистически значимым?\"))\n",
    "    if len(df[x].unique()) == 2:\n",
    "        # Создание котегориальной таблицы\n",
    "        contingency_table =  pd.crosstab(df[x], df[y])\n",
    "        # Тест Фишера\n",
    "        _, p_value = stats.fisher_exact(contingency_table)\n",
    "    else:\n",
    "        # Создание таблицы сопряженности\n",
    "        contingency_table = pd.crosstab(df[x], df[y], margins=True, margins_name='result')\n",
    "        # Теста Хи-квадрат\n",
    "        _, p_value, _, _ = stats.chi2_contingency(contingency_table)\n",
    "        # Вывод результатов\n",
    "    display(Markdown(f\"##### p-значение: **{round(p_value,2)}**\\n\\n #### Статистическая значимость:\"))\n",
    "    if p_value < 0.05:\n",
    "        display(Markdown(f\"##### Поскольку p_value меньше 0.05, можно утверждать, что между \" + x + \" и \" + y + \" существует статистически значимая связь\"))\n",
    "    else: \n",
    "         display(Markdown(f\"##### Поскольку p_value больше 0.05, можно утверждать, что между \" + x + \" и \" + y + \" не существует статистически значимая связь\"))\n",
    "    return text_box    "
   ]
  },
  {
   "cell_type": "markdown",
   "id": "1e6140f7-3eb2-41af-9db2-b40e21ebbf34",
   "metadata": {},
   "source": [
    "# Влияние одной переменной на желание сменить работу. "
   ]
  },
  {
   "cell_type": "markdown",
   "id": "8f850010-f762-4ade-9199-9cd296c13f31",
   "metadata": {},
   "source": [
    "Чтобы выявить закономерности, мы сначала определим корреляции признаков.\n",
    "Положительные корреляции между переменными отображаются красным цветом, \n",
    "отрицательные корреляции — синим, \n",
    "а отсутствие корреляции — белым на кластерной тепловой карте ниже."
   ]
  },
  {
   "cell_type": "code",
   "execution_count": 2083,
   "id": "95e4d826-7a89-4cc4-bc58-25a9b587a26d",
   "metadata": {},
   "outputs": [],
   "source": [
    "# Переводим все переменные в категориальные и записываем в новый DataFrame\n",
    "df_c = pd.DataFrame()\n",
    "for i in df.columns:\n",
    "    df_c[i] = df[i].copy().astype('category')"
   ]
  },
  {
   "cell_type": "code",
   "execution_count": 2084,
   "id": "87fca853-c144-46bc-874e-522029ecc243",
   "metadata": {},
   "outputs": [],
   "source": [
    "# Удаление столбцов\n",
    "df_c = df_c.drop(columns=['enrollee_id', 'city_development_index', 'training_hours', 'city', 'education_level', 'experience'])"
   ]
  },
  {
   "cell_type": "code",
   "execution_count": 2085,
   "id": "e25d7c85-6334-40bd-b314-6e9aee74f6eb",
   "metadata": {},
   "outputs": [
    {
     "data": {
      "text/plain": [
       "<Axes: >"
      ]
     },
     "execution_count": 2085,
     "metadata": {},
     "output_type": "execute_result"
    },
    {
     "data": {
      "image/png": "[encoded data removed]",
      "text/plain": [
       "<Figure size 1000x200 with 2 Axes>"
      ]
     },
     "metadata": {},
     "output_type": "display_data"
    }
   ],
   "source": [
    "# Рассчет матрицы корреляции с использованием phik\n",
    "correlation_matrix = df_c.phik_matrix()\n",
    "\n",
    "# Получаем коэффициенты Phik для выбранных переменных по отношению к 'target'\n",
    "correlation_matrix =  correlation_matrix.loc[['target']]\n",
    "correlation_matrix = correlation_matrix.drop(columns='target')\n",
    "\n",
    "# Настройка цветовой карты\n",
    "cmap = sns.diverging_palette(220, 20, as_cmap=True)\n",
    "\n",
    "# Настройка тепловой карты\n",
    "plt.figure(figsize=(10, 2))\n",
    "sns.heatmap(correlation_matrix, \n",
    "            annot=np.round(correlation_matrix, 2),  # Округление значений\n",
    "            fmt=\".2f\",  # Формат отображения\n",
    "            cmap=cmap, \n",
    "            center=0, \n",
    "            square=True, \n",
    "            linewidths=0.5, \n",
    "            cbar_kws={\"shrink\": .8}, \n",
    "            xticklabels=correlation_matrix.columns, \n",
    "            yticklabels=correlation_matrix.index,\n",
    "            cbar=True)"
   ]
  },
  {
   "cell_type": "markdown",
   "id": "c79a02e7-8ffc-4239-b34a-2edfded00567",
   "metadata": {},
   "source": [
    "Переменная target слабо коррелирует со всеми переменными, кроме переменной city_development_index_group, с которой наблюается сильная корреляция. "
   ]
  },
  {
   "cell_type": "code",
   "execution_count": 2086,
   "id": "92f3252c-3265-49ba-bb5a-4029d9f43b04",
   "metadata": {},
   "outputs": [],
   "source": [
    "# Удаление столбцов\n",
    "df_tempo =  df.drop(columns=['enrollee_id', 'city_development_index', 'training_hours', 'city', 'education_level', 'experience', 'target'])"
   ]
  },
  {
   "cell_type": "code",
   "execution_count": 2087,
   "id": "8117ec2f-c201-49cf-8cfb-3ea40df7b752",
   "metadata": {},
   "outputs": [],
   "source": [
    "text_boxes = []  # Список для хранения текстовых полей"
   ]
  },
  {
   "cell_type": "code",
   "execution_count": 2088,
   "id": "852ca810-dd3d-486f-91bf-7ed3a3143589",
   "metadata": {
    "scrolled": true
   },
   "outputs": [
    {
     "data": {
      "text/markdown": [
       "## Влияние переменной  **gender** на желание сменить работу."
      ],
      "text/plain": [
       "<IPython.core.display.Markdown object>"
      ]
     },
     "metadata": {},
     "output_type": "display_data"
    },
    {
     "data": {
      "text/html": [
       "<div>\n",
       "<style scoped>\n",
       "    .dataframe tbody tr th:only-of-type {\n",
       "        vertical-align: middle;\n",
       "    }\n",
       "\n",
       "    .dataframe tbody tr th {\n",
       "        vertical-align: top;\n",
       "    }\n",
       "\n",
       "    .dataframe thead th {\n",
       "        text-align: right;\n",
       "    }\n",
       "</style>\n",
       "<table border=\"1\" class=\"dataframe\">\n",
       "  <thead>\n",
       "    <tr style=\"text-align: right;\">\n",
       "      <th></th>\n",
       "      <th>count</th>\n",
       "      <th>absolute value</th>\n",
       "      <th>proportion</th>\n",
       "    </tr>\n",
       "    <tr>\n",
       "      <th>gender</th>\n",
       "      <th></th>\n",
       "      <th></th>\n",
       "      <th></th>\n",
       "    </tr>\n",
       "  </thead>\n",
       "  <tbody>\n",
       "    <tr>\n",
       "      <th>Female</th>\n",
       "      <td>1238</td>\n",
       "      <td>326.0</td>\n",
       "      <td>0.263328</td>\n",
       "    </tr>\n",
       "    <tr>\n",
       "      <th>Other</th>\n",
       "      <td>191</td>\n",
       "      <td>50.0</td>\n",
       "      <td>0.261780</td>\n",
       "    </tr>\n",
       "    <tr>\n",
       "      <th>Male</th>\n",
       "      <td>13221</td>\n",
       "      <td>3012.0</td>\n",
       "      <td>0.227819</td>\n",
       "    </tr>\n",
       "  </tbody>\n",
       "</table>\n",
       "</div>"
      ],
      "text/plain": [
       "        count  absolute value  proportion\n",
       "gender                                   \n",
       "Female   1238           326.0    0.263328\n",
       "Other     191            50.0    0.261780\n",
       "Male    13221          3012.0    0.227819"
      ]
     },
     "metadata": {},
     "output_type": "display_data"
    },
    {
     "data": {
      "image/png": "[encoded data removed]",
      "text/plain": [
       "<Figure size 640x480 with 1 Axes>"
      ]
     },
     "metadata": {},
     "output_type": "display_data"
    },
    {
     "data": {
      "text/markdown": [
       "#### Является ли данный результат статистически значимым?"
      ],
      "text/plain": [
       "<IPython.core.display.Markdown object>"
      ]
     },
     "metadata": {},
     "output_type": "display_data"
    },
    {
     "data": {
      "text/markdown": [
       "##### p-значение: **0.17**\n",
       "\n",
       " #### Статистическая значимость:"
      ],
      "text/plain": [
       "<IPython.core.display.Markdown object>"
      ]
     },
     "metadata": {},
     "output_type": "display_data"
    },
    {
     "data": {
      "text/markdown": [
       "##### Поскольку p_value больше 0.05, можно утверждать, что между gender и target не существует статистически значимая связь"
      ],
      "text/plain": [
       "<IPython.core.display.Markdown object>"
      ]
     },
     "metadata": {},
     "output_type": "display_data"
    },
    {
     "data": {
      "text/markdown": [
       "## Влияние переменной  **relevent_experience** на желание сменить работу."
      ],
      "text/plain": [
       "<IPython.core.display.Markdown object>"
      ]
     },
     "metadata": {},
     "output_type": "display_data"
    },
    {
     "data": {
      "text/html": [
       "<div>\n",
       "<style scoped>\n",
       "    .dataframe tbody tr th:only-of-type {\n",
       "        vertical-align: middle;\n",
       "    }\n",
       "\n",
       "    .dataframe tbody tr th {\n",
       "        vertical-align: top;\n",
       "    }\n",
       "\n",
       "    .dataframe thead th {\n",
       "        text-align: right;\n",
       "    }\n",
       "</style>\n",
       "<table border=\"1\" class=\"dataframe\">\n",
       "  <thead>\n",
       "    <tr style=\"text-align: right;\">\n",
       "      <th></th>\n",
       "      <th>count</th>\n",
       "      <th>absolute value</th>\n",
       "      <th>proportion</th>\n",
       "    </tr>\n",
       "    <tr>\n",
       "      <th>relevent_experience</th>\n",
       "      <th></th>\n",
       "      <th></th>\n",
       "      <th></th>\n",
       "    </tr>\n",
       "  </thead>\n",
       "  <tbody>\n",
       "    <tr>\n",
       "      <th>No relevent experience</th>\n",
       "      <td>5366</td>\n",
       "      <td>1816.0</td>\n",
       "      <td>0.338427</td>\n",
       "    </tr>\n",
       "    <tr>\n",
       "      <th>Has relevent experience</th>\n",
       "      <td>13792</td>\n",
       "      <td>2961.0</td>\n",
       "      <td>0.214690</td>\n",
       "    </tr>\n",
       "  </tbody>\n",
       "</table>\n",
       "</div>"
      ],
      "text/plain": [
       "                         count  absolute value  proportion\n",
       "relevent_experience                                       \n",
       "No relevent experience    5366          1816.0    0.338427\n",
       "Has relevent experience  13792          2961.0    0.214690"
      ]
     },
     "metadata": {},
     "output_type": "display_data"
    },
    {
     "data": {
      "image/png": "[encoded data removed]",
      "text/plain": [
       "<Figure size 640x480 with 1 Axes>"
      ]
     },
     "metadata": {},
     "output_type": "display_data"
    },
    {
     "data": {
      "text/markdown": [
       "#### Является ли данный результат статистически значимым?"
      ],
      "text/plain": [
       "<IPython.core.display.Markdown object>"
      ]
     },
     "metadata": {},
     "output_type": "display_data"
    },
    {
     "data": {
      "text/markdown": [
       "##### p-значение: **0.0**\n",
       "\n",
       " #### Статистическая значимость:"
      ],
      "text/plain": [
       "<IPython.core.display.Markdown object>"
      ]
     },
     "metadata": {},
     "output_type": "display_data"
    },
    {
     "data": {
      "text/markdown": [
       "##### Поскольку p_value меньше 0.05, можно утверждать, что между relevent_experience и target существует статистически значимая связь"
      ],
      "text/plain": [
       "<IPython.core.display.Markdown object>"
      ]
     },
     "metadata": {},
     "output_type": "display_data"
    },
    {
     "data": {
      "text/markdown": [
       "## Влияние переменной  **enrolled_university** на желание сменить работу."
      ],
      "text/plain": [
       "<IPython.core.display.Markdown object>"
      ]
     },
     "metadata": {},
     "output_type": "display_data"
    },
    {
     "data": {
      "text/html": [
       "<div>\n",
       "<style scoped>\n",
       "    .dataframe tbody tr th:only-of-type {\n",
       "        vertical-align: middle;\n",
       "    }\n",
       "\n",
       "    .dataframe tbody tr th {\n",
       "        vertical-align: top;\n",
       "    }\n",
       "\n",
       "    .dataframe thead th {\n",
       "        text-align: right;\n",
       "    }\n",
       "</style>\n",
       "<table border=\"1\" class=\"dataframe\">\n",
       "  <thead>\n",
       "    <tr style=\"text-align: right;\">\n",
       "      <th></th>\n",
       "      <th>count</th>\n",
       "      <th>absolute value</th>\n",
       "      <th>proportion</th>\n",
       "    </tr>\n",
       "    <tr>\n",
       "      <th>enrolled_university</th>\n",
       "      <th></th>\n",
       "      <th></th>\n",
       "      <th></th>\n",
       "    </tr>\n",
       "  </thead>\n",
       "  <tbody>\n",
       "    <tr>\n",
       "      <th>Full time course</th>\n",
       "      <td>3757</td>\n",
       "      <td>1431.0</td>\n",
       "      <td>0.380889</td>\n",
       "    </tr>\n",
       "    <tr>\n",
       "      <th>Part time course</th>\n",
       "      <td>1198</td>\n",
       "      <td>302.0</td>\n",
       "      <td>0.252087</td>\n",
       "    </tr>\n",
       "    <tr>\n",
       "      <th>no_enrollment</th>\n",
       "      <td>13817</td>\n",
       "      <td>2921.0</td>\n",
       "      <td>0.211406</td>\n",
       "    </tr>\n",
       "  </tbody>\n",
       "</table>\n",
       "</div>"
      ],
      "text/plain": [
       "                     count  absolute value  proportion\n",
       "enrolled_university                                   \n",
       "Full time course      3757          1431.0    0.380889\n",
       "Part time course      1198           302.0    0.252087\n",
       "no_enrollment        13817          2921.0    0.211406"
      ]
     },
     "metadata": {},
     "output_type": "display_data"
    },
    {
     "data": {
      "image/png": "[encoded data removed]",
      "text/plain": [
       "<Figure size 640x480 with 1 Axes>"
      ]
     },
     "metadata": {},
     "output_type": "display_data"
    },
    {
     "data": {
      "text/markdown": [
       "#### Является ли данный результат статистически значимым?"
      ],
      "text/plain": [
       "<IPython.core.display.Markdown object>"
      ]
     },
     "metadata": {},
     "output_type": "display_data"
    },
    {
     "data": {
      "text/markdown": [
       "##### p-значение: **0.0**\n",
       "\n",
       " #### Статистическая значимость:"
      ],
      "text/plain": [
       "<IPython.core.display.Markdown object>"
      ]
     },
     "metadata": {},
     "output_type": "display_data"
    },
    {
     "data": {
      "text/markdown": [
       "##### Поскольку p_value меньше 0.05, можно утверждать, что между enrolled_university и target существует статистически значимая связь"
      ],
      "text/plain": [
       "<IPython.core.display.Markdown object>"
      ]
     },
     "metadata": {},
     "output_type": "display_data"
    },
    {
     "data": {
      "text/markdown": [
       "## Влияние переменной  **major_discipline** на желание сменить работу."
      ],
      "text/plain": [
       "<IPython.core.display.Markdown object>"
      ]
     },
     "metadata": {},
     "output_type": "display_data"
    },
    {
     "data": {
      "text/html": [
       "<div>\n",
       "<style scoped>\n",
       "    .dataframe tbody tr th:only-of-type {\n",
       "        vertical-align: middle;\n",
       "    }\n",
       "\n",
       "    .dataframe tbody tr th {\n",
       "        vertical-align: top;\n",
       "    }\n",
       "\n",
       "    .dataframe thead th {\n",
       "        text-align: right;\n",
       "    }\n",
       "</style>\n",
       "<table border=\"1\" class=\"dataframe\">\n",
       "  <thead>\n",
       "    <tr style=\"text-align: right;\">\n",
       "      <th></th>\n",
       "      <th>count</th>\n",
       "      <th>absolute value</th>\n",
       "      <th>proportion</th>\n",
       "    </tr>\n",
       "    <tr>\n",
       "      <th>major_discipline</th>\n",
       "      <th></th>\n",
       "      <th></th>\n",
       "      <th></th>\n",
       "    </tr>\n",
       "  </thead>\n",
       "  <tbody>\n",
       "    <tr>\n",
       "      <th>Other</th>\n",
       "      <td>381</td>\n",
       "      <td>102.0</td>\n",
       "      <td>0.267717</td>\n",
       "    </tr>\n",
       "    <tr>\n",
       "      <th>Business Degree</th>\n",
       "      <td>327</td>\n",
       "      <td>86.0</td>\n",
       "      <td>0.262997</td>\n",
       "    </tr>\n",
       "    <tr>\n",
       "      <th>STEM</th>\n",
       "      <td>14492</td>\n",
       "      <td>3791.0</td>\n",
       "      <td>0.261593</td>\n",
       "    </tr>\n",
       "    <tr>\n",
       "      <th>No Major</th>\n",
       "      <td>223</td>\n",
       "      <td>55.0</td>\n",
       "      <td>0.246637</td>\n",
       "    </tr>\n",
       "    <tr>\n",
       "      <th>Humanities</th>\n",
       "      <td>669</td>\n",
       "      <td>141.0</td>\n",
       "      <td>0.210762</td>\n",
       "    </tr>\n",
       "    <tr>\n",
       "      <th>Arts</th>\n",
       "      <td>253</td>\n",
       "      <td>53.0</td>\n",
       "      <td>0.209486</td>\n",
       "    </tr>\n",
       "  </tbody>\n",
       "</table>\n",
       "</div>"
      ],
      "text/plain": [
       "                  count  absolute value  proportion\n",
       "major_discipline                                   \n",
       "Other               381           102.0    0.267717\n",
       "Business Degree     327            86.0    0.262997\n",
       "STEM              14492          3791.0    0.261593\n",
       "No Major            223            55.0    0.246637\n",
       "Humanities          669           141.0    0.210762\n",
       "Arts                253            53.0    0.209486"
      ]
     },
     "metadata": {},
     "output_type": "display_data"
    },
    {
     "data": {
      "image/png": "[encoded data removed]",
      "text/plain": [
       "<Figure size 640x480 with 1 Axes>"
      ]
     },
     "metadata": {},
     "output_type": "display_data"
    },
    {
     "data": {
      "text/markdown": [
       "#### Является ли данный результат статистически значимым?"
      ],
      "text/plain": [
       "<IPython.core.display.Markdown object>"
      ]
     },
     "metadata": {},
     "output_type": "display_data"
    },
    {
     "data": {
      "text/markdown": [
       "##### p-значение: **0.43**\n",
       "\n",
       " #### Статистическая значимость:"
      ],
      "text/plain": [
       "<IPython.core.display.Markdown object>"
      ]
     },
     "metadata": {},
     "output_type": "display_data"
    },
    {
     "data": {
      "text/markdown": [
       "##### Поскольку p_value больше 0.05, можно утверждать, что между major_discipline и target не существует статистически значимая связь"
      ],
      "text/plain": [
       "<IPython.core.display.Markdown object>"
      ]
     },
     "metadata": {},
     "output_type": "display_data"
    },
    {
     "data": {
      "text/markdown": [
       "## Влияние переменной  **company_size** на желание сменить работу."
      ],
      "text/plain": [
       "<IPython.core.display.Markdown object>"
      ]
     },
     "metadata": {},
     "output_type": "display_data"
    },
    {
     "data": {
      "text/html": [
       "<div>\n",
       "<style scoped>\n",
       "    .dataframe tbody tr th:only-of-type {\n",
       "        vertical-align: middle;\n",
       "    }\n",
       "\n",
       "    .dataframe tbody tr th {\n",
       "        vertical-align: top;\n",
       "    }\n",
       "\n",
       "    .dataframe thead th {\n",
       "        text-align: right;\n",
       "    }\n",
       "</style>\n",
       "<table border=\"1\" class=\"dataframe\">\n",
       "  <thead>\n",
       "    <tr style=\"text-align: right;\">\n",
       "      <th></th>\n",
       "      <th>count</th>\n",
       "      <th>absolute value</th>\n",
       "      <th>proportion</th>\n",
       "    </tr>\n",
       "    <tr>\n",
       "      <th>company_size</th>\n",
       "      <th></th>\n",
       "      <th></th>\n",
       "      <th></th>\n",
       "    </tr>\n",
       "  </thead>\n",
       "  <tbody>\n",
       "    <tr>\n",
       "      <th>10-49</th>\n",
       "      <td>1471</td>\n",
       "      <td>344.0</td>\n",
       "      <td>0.233855</td>\n",
       "    </tr>\n",
       "    <tr>\n",
       "      <th>10000+</th>\n",
       "      <td>2019</td>\n",
       "      <td>385.0</td>\n",
       "      <td>0.190688</td>\n",
       "    </tr>\n",
       "    <tr>\n",
       "      <th>5000-9999</th>\n",
       "      <td>563</td>\n",
       "      <td>102.0</td>\n",
       "      <td>0.181172</td>\n",
       "    </tr>\n",
       "    <tr>\n",
       "      <th>50-99</th>\n",
       "      <td>3083</td>\n",
       "      <td>545.0</td>\n",
       "      <td>0.176776</td>\n",
       "    </tr>\n",
       "    <tr>\n",
       "      <th>500-999</th>\n",
       "      <td>877</td>\n",
       "      <td>152.0</td>\n",
       "      <td>0.173318</td>\n",
       "    </tr>\n",
       "    <tr>\n",
       "      <th>&lt;10</th>\n",
       "      <td>1308</td>\n",
       "      <td>224.0</td>\n",
       "      <td>0.171254</td>\n",
       "    </tr>\n",
       "    <tr>\n",
       "      <th>100-500</th>\n",
       "      <td>2571</td>\n",
       "      <td>415.0</td>\n",
       "      <td>0.161416</td>\n",
       "    </tr>\n",
       "    <tr>\n",
       "      <th>1000-4999</th>\n",
       "      <td>1328</td>\n",
       "      <td>200.0</td>\n",
       "      <td>0.150602</td>\n",
       "    </tr>\n",
       "  </tbody>\n",
       "</table>\n",
       "</div>"
      ],
      "text/plain": [
       "              count  absolute value  proportion\n",
       "company_size                                   \n",
       "10-49          1471           344.0    0.233855\n",
       "10000+         2019           385.0    0.190688\n",
       "5000-9999       563           102.0    0.181172\n",
       "50-99          3083           545.0    0.176776\n",
       "500-999         877           152.0    0.173318\n",
       "<10            1308           224.0    0.171254\n",
       "100-500        2571           415.0    0.161416\n",
       "1000-4999      1328           200.0    0.150602"
      ]
     },
     "metadata": {},
     "output_type": "display_data"
    },
    {
     "data": {
      "image/png": "[encoded data removed]",
      "text/plain": [
       "<Figure size 640x480 with 1 Axes>"
      ]
     },
     "metadata": {},
     "output_type": "display_data"
    },
    {
     "data": {
      "text/markdown": [
       "#### Является ли данный результат статистически значимым?"
      ],
      "text/plain": [
       "<IPython.core.display.Markdown object>"
      ]
     },
     "metadata": {},
     "output_type": "display_data"
    },
    {
     "data": {
      "text/markdown": [
       "##### p-значение: **0.0**\n",
       "\n",
       " #### Статистическая значимость:"
      ],
      "text/plain": [
       "<IPython.core.display.Markdown object>"
      ]
     },
     "metadata": {},
     "output_type": "display_data"
    },
    {
     "data": {
      "text/markdown": [
       "##### Поскольку p_value меньше 0.05, можно утверждать, что между company_size и target существует статистически значимая связь"
      ],
      "text/plain": [
       "<IPython.core.display.Markdown object>"
      ]
     },
     "metadata": {},
     "output_type": "display_data"
    },
    {
     "data": {
      "text/markdown": [
       "## Влияние переменной  **company_type** на желание сменить работу."
      ],
      "text/plain": [
       "<IPython.core.display.Markdown object>"
      ]
     },
     "metadata": {},
     "output_type": "display_data"
    },
    {
     "data": {
      "text/html": [
       "<div>\n",
       "<style scoped>\n",
       "    .dataframe tbody tr th:only-of-type {\n",
       "        vertical-align: middle;\n",
       "    }\n",
       "\n",
       "    .dataframe tbody tr th {\n",
       "        vertical-align: top;\n",
       "    }\n",
       "\n",
       "    .dataframe thead th {\n",
       "        text-align: right;\n",
       "    }\n",
       "</style>\n",
       "<table border=\"1\" class=\"dataframe\">\n",
       "  <thead>\n",
       "    <tr style=\"text-align: right;\">\n",
       "      <th></th>\n",
       "      <th>count</th>\n",
       "      <th>absolute value</th>\n",
       "      <th>proportion</th>\n",
       "    </tr>\n",
       "    <tr>\n",
       "      <th>company_type</th>\n",
       "      <th></th>\n",
       "      <th></th>\n",
       "      <th></th>\n",
       "    </tr>\n",
       "  </thead>\n",
       "  <tbody>\n",
       "    <tr>\n",
       "      <th>Other</th>\n",
       "      <td>121</td>\n",
       "      <td>29.0</td>\n",
       "      <td>0.239669</td>\n",
       "    </tr>\n",
       "    <tr>\n",
       "      <th>Early Stage Startup</th>\n",
       "      <td>603</td>\n",
       "      <td>142.0</td>\n",
       "      <td>0.235489</td>\n",
       "    </tr>\n",
       "    <tr>\n",
       "      <th>Public Sector</th>\n",
       "      <td>955</td>\n",
       "      <td>210.0</td>\n",
       "      <td>0.219895</td>\n",
       "    </tr>\n",
       "    <tr>\n",
       "      <th>NGO</th>\n",
       "      <td>521</td>\n",
       "      <td>97.0</td>\n",
       "      <td>0.186180</td>\n",
       "    </tr>\n",
       "    <tr>\n",
       "      <th>Pvt Ltd</th>\n",
       "      <td>9817</td>\n",
       "      <td>1775.0</td>\n",
       "      <td>0.180809</td>\n",
       "    </tr>\n",
       "    <tr>\n",
       "      <th>Funded Startup</th>\n",
       "      <td>1001</td>\n",
       "      <td>140.0</td>\n",
       "      <td>0.139860</td>\n",
       "    </tr>\n",
       "  </tbody>\n",
       "</table>\n",
       "</div>"
      ],
      "text/plain": [
       "                     count  absolute value  proportion\n",
       "company_type                                          \n",
       "Other                  121            29.0    0.239669\n",
       "Early Stage Startup    603           142.0    0.235489\n",
       "Public Sector          955           210.0    0.219895\n",
       "NGO                    521            97.0    0.186180\n",
       "Pvt Ltd               9817          1775.0    0.180809\n",
       "Funded Startup        1001           140.0    0.139860"
      ]
     },
     "metadata": {},
     "output_type": "display_data"
    },
    {
     "data": {
      "image/png": "[encoded data removed]",
      "text/plain": [
       "<Figure size 640x480 with 1 Axes>"
      ]
     },
     "metadata": {},
     "output_type": "display_data"
    },
    {
     "data": {
      "text/markdown": [
       "#### Является ли данный результат статистически значимым?"
      ],
      "text/plain": [
       "<IPython.core.display.Markdown object>"
      ]
     },
     "metadata": {},
     "output_type": "display_data"
    },
    {
     "data": {
      "text/markdown": [
       "##### p-значение: **0.0**\n",
       "\n",
       " #### Статистическая значимость:"
      ],
      "text/plain": [
       "<IPython.core.display.Markdown object>"
      ]
     },
     "metadata": {},
     "output_type": "display_data"
    },
    {
     "data": {
      "text/markdown": [
       "##### Поскольку p_value меньше 0.05, можно утверждать, что между company_type и target существует статистически значимая связь"
      ],
      "text/plain": [
       "<IPython.core.display.Markdown object>"
      ]
     },
     "metadata": {},
     "output_type": "display_data"
    },
    {
     "data": {
      "text/markdown": [
       "## Влияние переменной  **last_new_job** на желание сменить работу."
      ],
      "text/plain": [
       "<IPython.core.display.Markdown object>"
      ]
     },
     "metadata": {},
     "output_type": "display_data"
    },
    {
     "data": {
      "text/html": [
       "<div>\n",
       "<style scoped>\n",
       "    .dataframe tbody tr th:only-of-type {\n",
       "        vertical-align: middle;\n",
       "    }\n",
       "\n",
       "    .dataframe tbody tr th {\n",
       "        vertical-align: top;\n",
       "    }\n",
       "\n",
       "    .dataframe thead th {\n",
       "        text-align: right;\n",
       "    }\n",
       "</style>\n",
       "<table border=\"1\" class=\"dataframe\">\n",
       "  <thead>\n",
       "    <tr style=\"text-align: right;\">\n",
       "      <th></th>\n",
       "      <th>count</th>\n",
       "      <th>absolute value</th>\n",
       "      <th>proportion</th>\n",
       "    </tr>\n",
       "    <tr>\n",
       "      <th>last_new_job</th>\n",
       "      <th></th>\n",
       "      <th></th>\n",
       "      <th></th>\n",
       "    </tr>\n",
       "  </thead>\n",
       "  <tbody>\n",
       "    <tr>\n",
       "      <th>0</th>\n",
       "      <td>2452</td>\n",
       "      <td>739.0</td>\n",
       "      <td>0.301387</td>\n",
       "    </tr>\n",
       "    <tr>\n",
       "      <th>1</th>\n",
       "      <td>8040</td>\n",
       "      <td>2125.0</td>\n",
       "      <td>0.264303</td>\n",
       "    </tr>\n",
       "    <tr>\n",
       "      <th>2</th>\n",
       "      <td>2900</td>\n",
       "      <td>700.0</td>\n",
       "      <td>0.241379</td>\n",
       "    </tr>\n",
       "    <tr>\n",
       "      <th>3</th>\n",
       "      <td>1024</td>\n",
       "      <td>231.0</td>\n",
       "      <td>0.225586</td>\n",
       "    </tr>\n",
       "    <tr>\n",
       "      <th>4</th>\n",
       "      <td>1029</td>\n",
       "      <td>228.0</td>\n",
       "      <td>0.221574</td>\n",
       "    </tr>\n",
       "    <tr>\n",
       "      <th>&gt;4</th>\n",
       "      <td>3290</td>\n",
       "      <td>600.0</td>\n",
       "      <td>0.182371</td>\n",
       "    </tr>\n",
       "  </tbody>\n",
       "</table>\n",
       "</div>"
      ],
      "text/plain": [
       "              count  absolute value  proportion\n",
       "last_new_job                                   \n",
       "0              2452           739.0    0.301387\n",
       "1              8040          2125.0    0.264303\n",
       "2              2900           700.0    0.241379\n",
       "3              1024           231.0    0.225586\n",
       "4              1029           228.0    0.221574\n",
       ">4             3290           600.0    0.182371"
      ]
     },
     "metadata": {},
     "output_type": "display_data"
    },
    {
     "data": {
      "image/png": "[encoded data removed]",
      "text/plain": [
       "<Figure size 640x480 with 1 Axes>"
      ]
     },
     "metadata": {},
     "output_type": "display_data"
    },
    {
     "data": {
      "text/markdown": [
       "#### Является ли данный результат статистически значимым?"
      ],
      "text/plain": [
       "<IPython.core.display.Markdown object>"
      ]
     },
     "metadata": {},
     "output_type": "display_data"
    },
    {
     "data": {
      "text/markdown": [
       "##### p-значение: **0.0**\n",
       "\n",
       " #### Статистическая значимость:"
      ],
      "text/plain": [
       "<IPython.core.display.Markdown object>"
      ]
     },
     "metadata": {},
     "output_type": "display_data"
    },
    {
     "data": {
      "text/markdown": [
       "##### Поскольку p_value меньше 0.05, можно утверждать, что между last_new_job и target существует статистически значимая связь"
      ],
      "text/plain": [
       "<IPython.core.display.Markdown object>"
      ]
     },
     "metadata": {},
     "output_type": "display_data"
    },
    {
     "data": {
      "text/markdown": [
       "## Влияние переменной  **education_level_group** на желание сменить работу."
      ],
      "text/plain": [
       "<IPython.core.display.Markdown object>"
      ]
     },
     "metadata": {},
     "output_type": "display_data"
    },
    {
     "data": {
      "text/html": [
       "<div>\n",
       "<style scoped>\n",
       "    .dataframe tbody tr th:only-of-type {\n",
       "        vertical-align: middle;\n",
       "    }\n",
       "\n",
       "    .dataframe tbody tr th {\n",
       "        vertical-align: top;\n",
       "    }\n",
       "\n",
       "    .dataframe thead th {\n",
       "        text-align: right;\n",
       "    }\n",
       "</style>\n",
       "<table border=\"1\" class=\"dataframe\">\n",
       "  <thead>\n",
       "    <tr style=\"text-align: right;\">\n",
       "      <th></th>\n",
       "      <th>count</th>\n",
       "      <th>absolute value</th>\n",
       "      <th>proportion</th>\n",
       "    </tr>\n",
       "    <tr>\n",
       "      <th>education_level_group</th>\n",
       "      <th></th>\n",
       "      <th></th>\n",
       "      <th></th>\n",
       "    </tr>\n",
       "  </thead>\n",
       "  <tbody>\n",
       "    <tr>\n",
       "      <th>Graduate</th>\n",
       "      <td>16373</td>\n",
       "      <td>4238.0</td>\n",
       "      <td>0.258841</td>\n",
       "    </tr>\n",
       "    <tr>\n",
       "      <th>School</th>\n",
       "      <td>2325</td>\n",
       "      <td>435.0</td>\n",
       "      <td>0.187097</td>\n",
       "    </tr>\n",
       "  </tbody>\n",
       "</table>\n",
       "</div>"
      ],
      "text/plain": [
       "                       count  absolute value  proportion\n",
       "education_level_group                                   \n",
       "Graduate               16373          4238.0    0.258841\n",
       "School                  2325           435.0    0.187097"
      ]
     },
     "metadata": {},
     "output_type": "display_data"
    },
    {
     "data": {
      "image/png": "[encoded data removed]",
      "text/plain": [
       "<Figure size 640x480 with 1 Axes>"
      ]
     },
     "metadata": {},
     "output_type": "display_data"
    },
    {
     "data": {
      "text/markdown": [
       "#### Является ли данный результат статистически значимым?"
      ],
      "text/plain": [
       "<IPython.core.display.Markdown object>"
      ]
     },
     "metadata": {},
     "output_type": "display_data"
    },
    {
     "data": {
      "text/markdown": [
       "##### p-значение: **0.0**\n",
       "\n",
       " #### Статистическая значимость:"
      ],
      "text/plain": [
       "<IPython.core.display.Markdown object>"
      ]
     },
     "metadata": {},
     "output_type": "display_data"
    },
    {
     "data": {
      "text/markdown": [
       "##### Поскольку p_value меньше 0.05, можно утверждать, что между education_level_group и target существует статистически значимая связь"
      ],
      "text/plain": [
       "<IPython.core.display.Markdown object>"
      ]
     },
     "metadata": {},
     "output_type": "display_data"
    },
    {
     "data": {
      "text/markdown": [
       "## Влияние переменной  **experience_group** на желание сменить работу."
      ],
      "text/plain": [
       "<IPython.core.display.Markdown object>"
      ]
     },
     "metadata": {},
     "output_type": "display_data"
    },
    {
     "data": {
      "text/html": [
       "<div>\n",
       "<style scoped>\n",
       "    .dataframe tbody tr th:only-of-type {\n",
       "        vertical-align: middle;\n",
       "    }\n",
       "\n",
       "    .dataframe tbody tr th {\n",
       "        vertical-align: top;\n",
       "    }\n",
       "\n",
       "    .dataframe thead th {\n",
       "        text-align: right;\n",
       "    }\n",
       "</style>\n",
       "<table border=\"1\" class=\"dataframe\">\n",
       "  <thead>\n",
       "    <tr style=\"text-align: right;\">\n",
       "      <th></th>\n",
       "      <th>count</th>\n",
       "      <th>absolute value</th>\n",
       "      <th>proportion</th>\n",
       "    </tr>\n",
       "    <tr>\n",
       "      <th>experience_group</th>\n",
       "      <th></th>\n",
       "      <th></th>\n",
       "      <th></th>\n",
       "    </tr>\n",
       "  </thead>\n",
       "  <tbody>\n",
       "    <tr>\n",
       "      <th>(-0.5, 5.0]</th>\n",
       "      <td>6385</td>\n",
       "      <td>2191.0</td>\n",
       "      <td>0.343148</td>\n",
       "    </tr>\n",
       "    <tr>\n",
       "      <th>(5.0, 10.0]</th>\n",
       "      <td>5011</td>\n",
       "      <td>1261.0</td>\n",
       "      <td>0.251646</td>\n",
       "    </tr>\n",
       "    <tr>\n",
       "      <th>(10.0, 15.0]</th>\n",
       "      <td>2829</td>\n",
       "      <td>541.0</td>\n",
       "      <td>0.191234</td>\n",
       "    </tr>\n",
       "    <tr>\n",
       "      <th>(15.0, 25.0]</th>\n",
       "      <td>4868</td>\n",
       "      <td>761.0</td>\n",
       "      <td>0.156327</td>\n",
       "    </tr>\n",
       "  </tbody>\n",
       "</table>\n",
       "</div>"
      ],
      "text/plain": [
       "                  count  absolute value  proportion\n",
       "experience_group                                   \n",
       "(-0.5, 5.0]        6385          2191.0    0.343148\n",
       "(5.0, 10.0]        5011          1261.0    0.251646\n",
       "(10.0, 15.0]       2829           541.0    0.191234\n",
       "(15.0, 25.0]       4868           761.0    0.156327"
      ]
     },
     "metadata": {},
     "output_type": "display_data"
    },
    {
     "data": {
      "image/png": "[encoded data removed]",
      "text/plain": [
       "<Figure size 640x480 with 1 Axes>"
      ]
     },
     "metadata": {},
     "output_type": "display_data"
    },
    {
     "data": {
      "text/markdown": [
       "#### Является ли данный результат статистически значимым?"
      ],
      "text/plain": [
       "<IPython.core.display.Markdown object>"
      ]
     },
     "metadata": {},
     "output_type": "display_data"
    },
    {
     "data": {
      "text/markdown": [
       "##### p-значение: **0.0**\n",
       "\n",
       " #### Статистическая значимость:"
      ],
      "text/plain": [
       "<IPython.core.display.Markdown object>"
      ]
     },
     "metadata": {},
     "output_type": "display_data"
    },
    {
     "data": {
      "text/markdown": [
       "##### Поскольку p_value меньше 0.05, можно утверждать, что между experience_group и target существует статистически значимая связь"
      ],
      "text/plain": [
       "<IPython.core.display.Markdown object>"
      ]
     },
     "metadata": {},
     "output_type": "display_data"
    },
    {
     "data": {
      "text/markdown": [
       "## Влияние переменной  **training_hours_group** на желание сменить работу."
      ],
      "text/plain": [
       "<IPython.core.display.Markdown object>"
      ]
     },
     "metadata": {},
     "output_type": "display_data"
    },
    {
     "data": {
      "text/html": [
       "<div>\n",
       "<style scoped>\n",
       "    .dataframe tbody tr th:only-of-type {\n",
       "        vertical-align: middle;\n",
       "    }\n",
       "\n",
       "    .dataframe tbody tr th {\n",
       "        vertical-align: top;\n",
       "    }\n",
       "\n",
       "    .dataframe thead th {\n",
       "        text-align: right;\n",
       "    }\n",
       "</style>\n",
       "<table border=\"1\" class=\"dataframe\">\n",
       "  <thead>\n",
       "    <tr style=\"text-align: right;\">\n",
       "      <th></th>\n",
       "      <th>count</th>\n",
       "      <th>absolute value</th>\n",
       "      <th>proportion</th>\n",
       "    </tr>\n",
       "    <tr>\n",
       "      <th>training_hours_group</th>\n",
       "      <th></th>\n",
       "      <th></th>\n",
       "      <th></th>\n",
       "    </tr>\n",
       "  </thead>\n",
       "  <tbody>\n",
       "    <tr>\n",
       "      <th>(23.0, 47.0]</th>\n",
       "      <td>4706</td>\n",
       "      <td>1212.0</td>\n",
       "      <td>0.257544</td>\n",
       "    </tr>\n",
       "    <tr>\n",
       "      <th>(47.0, 88.0]</th>\n",
       "      <td>4748</td>\n",
       "      <td>1199.0</td>\n",
       "      <td>0.252527</td>\n",
       "    </tr>\n",
       "    <tr>\n",
       "      <th>(0.999, 23.0]</th>\n",
       "      <td>4923</td>\n",
       "      <td>1233.0</td>\n",
       "      <td>0.250457</td>\n",
       "    </tr>\n",
       "    <tr>\n",
       "      <th>(88.0, 336.0]</th>\n",
       "      <td>4781</td>\n",
       "      <td>1133.0</td>\n",
       "      <td>0.236980</td>\n",
       "    </tr>\n",
       "  </tbody>\n",
       "</table>\n",
       "</div>"
      ],
      "text/plain": [
       "                      count  absolute value  proportion\n",
       "training_hours_group                                   \n",
       "(23.0, 47.0]           4706          1212.0    0.257544\n",
       "(47.0, 88.0]           4748          1199.0    0.252527\n",
       "(0.999, 23.0]          4923          1233.0    0.250457\n",
       "(88.0, 336.0]          4781          1133.0    0.236980"
      ]
     },
     "metadata": {},
     "output_type": "display_data"
    },
    {
     "data": {
      "image/png": "[encoded data removed]",
      "text/plain": [
       "<Figure size 640x480 with 1 Axes>"
      ]
     },
     "metadata": {},
     "output_type": "display_data"
    },
    {
     "data": {
      "text/markdown": [
       "#### Является ли данный результат статистически значимым?"
      ],
      "text/plain": [
       "<IPython.core.display.Markdown object>"
      ]
     },
     "metadata": {},
     "output_type": "display_data"
    },
    {
     "data": {
      "text/markdown": [
       "##### p-значение: **0.66**\n",
       "\n",
       " #### Статистическая значимость:"
      ],
      "text/plain": [
       "<IPython.core.display.Markdown object>"
      ]
     },
     "metadata": {},
     "output_type": "display_data"
    },
    {
     "data": {
      "text/markdown": [
       "##### Поскольку p_value больше 0.05, можно утверждать, что между training_hours_group и target не существует статистически значимая связь"
      ],
      "text/plain": [
       "<IPython.core.display.Markdown object>"
      ]
     },
     "metadata": {},
     "output_type": "display_data"
    },
    {
     "data": {
      "text/markdown": [
       "## Влияние переменной  **city_development_index_group** на желание сменить работу."
      ],
      "text/plain": [
       "<IPython.core.display.Markdown object>"
      ]
     },
     "metadata": {},
     "output_type": "display_data"
    },
    {
     "data": {
      "text/html": [
       "<div>\n",
       "<style scoped>\n",
       "    .dataframe tbody tr th:only-of-type {\n",
       "        vertical-align: middle;\n",
       "    }\n",
       "\n",
       "    .dataframe tbody tr th {\n",
       "        vertical-align: top;\n",
       "    }\n",
       "\n",
       "    .dataframe thead th {\n",
       "        text-align: right;\n",
       "    }\n",
       "</style>\n",
       "<table border=\"1\" class=\"dataframe\">\n",
       "  <thead>\n",
       "    <tr style=\"text-align: right;\">\n",
       "      <th></th>\n",
       "      <th>count</th>\n",
       "      <th>absolute value</th>\n",
       "      <th>proportion</th>\n",
       "    </tr>\n",
       "    <tr>\n",
       "      <th>city_development_index_group</th>\n",
       "      <th></th>\n",
       "      <th></th>\n",
       "      <th></th>\n",
       "    </tr>\n",
       "  </thead>\n",
       "  <tbody>\n",
       "    <tr>\n",
       "      <th>(0.447, 0.624]</th>\n",
       "      <td>3427</td>\n",
       "      <td>2017.0</td>\n",
       "      <td>0.588561</td>\n",
       "    </tr>\n",
       "    <tr>\n",
       "      <th>(0.624, 0.766]</th>\n",
       "      <td>2085</td>\n",
       "      <td>560.0</td>\n",
       "      <td>0.268585</td>\n",
       "    </tr>\n",
       "    <tr>\n",
       "      <th>(0.91, 0.92]</th>\n",
       "      <td>5491</td>\n",
       "      <td>1161.0</td>\n",
       "      <td>0.211437</td>\n",
       "    </tr>\n",
       "    <tr>\n",
       "      <th>(0.766, 0.887]</th>\n",
       "      <td>2725</td>\n",
       "      <td>447.0</td>\n",
       "      <td>0.164037</td>\n",
       "    </tr>\n",
       "    <tr>\n",
       "      <th>(0.887, 0.91]</th>\n",
       "      <td>2893</td>\n",
       "      <td>327.0</td>\n",
       "      <td>0.113031</td>\n",
       "    </tr>\n",
       "    <tr>\n",
       "      <th>(0.92, 0.949]</th>\n",
       "      <td>2537</td>\n",
       "      <td>265.0</td>\n",
       "      <td>0.104454</td>\n",
       "    </tr>\n",
       "  </tbody>\n",
       "</table>\n",
       "</div>"
      ],
      "text/plain": [
       "                              count  absolute value  proportion\n",
       "city_development_index_group                                   \n",
       "(0.447, 0.624]                 3427          2017.0    0.588561\n",
       "(0.624, 0.766]                 2085           560.0    0.268585\n",
       "(0.91, 0.92]                   5491          1161.0    0.211437\n",
       "(0.766, 0.887]                 2725           447.0    0.164037\n",
       "(0.887, 0.91]                  2893           327.0    0.113031\n",
       "(0.92, 0.949]                  2537           265.0    0.104454"
      ]
     },
     "metadata": {},
     "output_type": "display_data"
    },
    {
     "data": {
      "image/png": "[encoded data removed]",
      "text/plain": [
       "<Figure size 640x480 with 1 Axes>"
      ]
     },
     "metadata": {},
     "output_type": "display_data"
    },
    {
     "data": {
      "text/markdown": [
       "#### Является ли данный результат статистически значимым?"
      ],
      "text/plain": [
       "<IPython.core.display.Markdown object>"
      ]
     },
     "metadata": {},
     "output_type": "display_data"
    },
    {
     "data": {
      "text/markdown": [
       "##### p-значение: **0.0**\n",
       "\n",
       " #### Статистическая значимость:"
      ],
      "text/plain": [
       "<IPython.core.display.Markdown object>"
      ]
     },
     "metadata": {},
     "output_type": "display_data"
    },
    {
     "data": {
      "text/markdown": [
       "##### Поскольку p_value меньше 0.05, можно утверждать, что между city_development_index_group и target существует статистически значимая связь"
      ],
      "text/plain": [
       "<IPython.core.display.Markdown object>"
      ]
     },
     "metadata": {},
     "output_type": "display_data"
    }
   ],
   "source": [
    "# Проведение статистического теста \n",
    "for attribute in df_tempo.columns:\n",
    "    pvt_plt_stest(attribute)"
   ]
  },
  {
   "cell_type": "markdown",
   "id": "10d7a8cd-3921-445e-a0e9-1c54c3d0b19e",
   "metadata": {},
   "source": [
    "## Вывод по гистограммам: \n",
    "\n",
    "Ни на одном из графиков не наблюдается значимая зависимость между переменными, кроме гистограммы \n",
    "для переменных city_development_index_group и target. На последней наблюдается обратная линейная зависимость: чем выше уровень развития города, тем меньше желание сменить работу. Максимальная разница между долями желающих сменить работу в категориях составляет примерно 48.4%."
   ]
  },
  {
   "cell_type": "markdown",
   "id": "cd4ab01c-5065-4ac2-8858-6c9c5eb30bcd",
   "metadata": {},
   "source": [
    "# Общий вывод:\n",
    "\n",
    "- Не оказывают влияние на желание сменить работу переменные: гендер, главные дисциплины, часы тренинга.\n",
    "- Существенно влияет на желание сменить работу оказывают переменные: индекс развития города.\n",
    "- Несущественное влияние оказывают переменные: уровень образования, опыт, релевантный опыт, текущая учебная занятость, размер компании, тип компании, перерыв между прошлым и текущим местом работы. \n",
    "\n"
   ]
  }
 ],
 "metadata": {
  "kernelspec": {
   "display_name": "Python 3 (ipykernel)",
   "language": "python",
   "name": "python3"
  },
  "language_info": {
   "codemirror_mode": {
    "name": "ipython",
    "version": 3
   },
   "file_extension": ".py",
   "mimetype": "text/x-python",
   "name": "python",
   "nbconvert_exporter": "python",
   "pygments_lexer": "ipython3",
   "version": "3.8.20"
  }
 },
 "nbformat": 4,
 "nbformat_minor": 5
}
