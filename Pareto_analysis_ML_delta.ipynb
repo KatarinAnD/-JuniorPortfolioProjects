{
 "cells": [
  {
   "cell_type": "markdown",
   "id": "5118d7ac-5eeb-4e56-bbf9-5ef3bcd4e97a",
   "metadata": {},
   "source": [
    "# Описание работы и постановка задачи"
   ]
  },
  {
   "cell_type": "markdown",
   "id": "278fe3a5-e215-4ed0-afe5-b20580b0f29e",
   "metadata": {},
   "source": [
    "В данной работе рассмотрен метод Парето для выделения наиболее значимых фрагментов данных, что становится основой для создания эффективных моделей прогнозирования. Метод реализован на реальных данных о поступивших заявках на сервисное обслуживание одного из ведущих отечественных автопроизводителей.\n",
    "### Методика \n",
    "В данной методике применяется метод Парето для выделения наиболее значимых примеров в данных, используемых для обучения модели. Этот подход основывается на принципе 80/20, согласно которому примерно 80% результатов достигается за счет 20% причин. В контексте анализа данных это означает, что относительно небольшое количество объектов может оказывать значительное влияние на общие результаты модели. Для определения ключевых примеров мы оцениваем вклад каждого объекта в общую вариацию данных и отбираем те, которые находятся в верхних процентах по значимости. Объекты, не соответствующие установленным критериям значимости, классифицируются как менее важные и могут быть исключены из дальнейшего анализа. Также, принцип  Парето позволяет оптимизировать вычислительные ресурсы.\n",
    "### Задача\n",
    "Выделить значимые примеры в данных при помощи алгоритма, основанного  на принципе метода Парето.\n",
    "### Дополнительная задача\n",
    "Выделить равномерный фрагмент данных, а именно данные, собранные с одинаковыми временными интервалами в один день. Это особенно важно для повышения точности прогнозов, поскольку модели более эффективно обучаются на последовательных и предсказуемых данных. \n"
   ]
  },
  {
   "cell_type": "markdown",
   "id": "566ec798-723a-4364-884a-a08cdf6bc063",
   "metadata": {},
   "source": [
    "# Подключение необходимых библиотек"
   ]
  },
  {
   "cell_type": "code",
   "execution_count": 383,
   "id": "9e0bac57-94d4-460e-97c8-22fb4a76bf2f",
   "metadata": {},
   "outputs": [],
   "source": [
    "import pandas as pd\n",
    "import seaborn as sns\n",
    "import matplotlib.pyplot as plt"
   ]
  },
  {
   "cell_type": "markdown",
   "id": "4ffcfcdc-2b85-4a82-8958-1442291108df",
   "metadata": {},
   "source": [
    "# Настройка стиля графиков"
   ]
  },
  {
   "cell_type": "code",
   "execution_count": 384,
   "id": "60902316-d52f-448d-847b-8a4a878cf884",
   "metadata": {},
   "outputs": [],
   "source": [
    "sns.set(context = 'paper', style='whitegrid', palette = 'deep')\n",
    "plt.rcParams['font.family'] = 'Arial'"
   ]
  },
  {
   "cell_type": "code",
   "execution_count": 385,
   "id": "006afee9-f44c-4036-9943-04907bb43867",
   "metadata": {},
   "outputs": [],
   "source": [
    "# установка общего размера шрифта для всех элементов графиков\n",
    "plt.rcParams['font.size'] = 14 # размер шрифта по умолчанию\n",
    "plt.rcParams['axes.titlesize'] = 16 # размер шрифта заголовка осей\n",
    "plt.rcParams['axes.labelsize'] = 16 # размер шрифта подписей осей\n",
    "plt.rcParams['xtick.labelsize'] = 14 # размер шрифта меток на оси X\n",
    "plt.rcParams['ytick.labelsize'] = 14 # размер шрифта меток на оси Y\n",
    "plt.rcParams['legend.fontsize'] = 14 # размер шрифта легенды"
   ]
  },
  {
   "cell_type": "markdown",
   "id": "c64c232f-2cd0-406c-96e4-1d4da35d0287",
   "metadata": {},
   "source": [
    "# Чтение данных"
   ]
  },
  {
   "cell_type": "code",
   "execution_count": 386,
   "id": "46c7754c-01e9-4712-a123-009c61bc852a",
   "metadata": {},
   "outputs": [],
   "source": [
    "path = \"/Users/user/Desktop/данные/data.csv\"\n",
    "df = pd.read_csv(path)"
   ]
  },
  {
   "cell_type": "markdown",
   "id": "035cc5d9-3928-4bbe-b5b4-95de2d2f4aac",
   "metadata": {},
   "source": [
    "# Предварительный анализ и обработка данных"
   ]
  },
  {
   "cell_type": "code",
   "execution_count": 387,
   "id": "5bda5f69-6849-4c33-98e2-35fdb80612c1",
   "metadata": {},
   "outputs": [
    {
     "data": {
      "text/html": [
       "<div>\n",
       "<style scoped>\n",
       "    .dataframe tbody tr th:only-of-type {\n",
       "        vertical-align: middle;\n",
       "    }\n",
       "\n",
       "    .dataframe tbody tr th {\n",
       "        vertical-align: top;\n",
       "    }\n",
       "\n",
       "    .dataframe thead th {\n",
       "        text-align: right;\n",
       "    }\n",
       "</style>\n",
       "<table border=\"1\" class=\"dataframe\">\n",
       "  <thead>\n",
       "    <tr style=\"text-align: right;\">\n",
       "      <th></th>\n",
       "      <th>service_id</th>\n",
       "      <th>service_name</th>\n",
       "      <th>model</th>\n",
       "      <th>component</th>\n",
       "      <th>product_id</th>\n",
       "      <th>product_part1_id</th>\n",
       "      <th>product_part2_id</th>\n",
       "      <th>date_in</th>\n",
       "      <th>date_out</th>\n",
       "      <th>mileage</th>\n",
       "      <th>warranty</th>\n",
       "      <th>labor_cost</th>\n",
       "      <th>operating_time</th>\n",
       "      <th>service_price</th>\n",
       "      <th>part_price</th>\n",
       "      <th>materials_price</th>\n",
       "      <th>general_price</th>\n",
       "      <th>defect_id</th>\n",
       "      <th>defect_name</th>\n",
       "      <th>causer</th>\n",
       "    </tr>\n",
       "  </thead>\n",
       "  <tbody>\n",
       "    <tr>\n",
       "      <th>0</th>\n",
       "      <td>44360</td>\n",
       "      <td>САМАРА</td>\n",
       "      <td>11183</td>\n",
       "      <td>2915004</td>\n",
       "      <td>2</td>\n",
       "      <td>236</td>\n",
       "      <td>724743</td>\n",
       "      <td>2023-01-18</td>\n",
       "      <td>2023-01-18</td>\n",
       "      <td>15208</td>\n",
       "      <td>10</td>\n",
       "      <td>1.42</td>\n",
       "      <td>310.0</td>\n",
       "      <td>440.0</td>\n",
       "      <td>814.0</td>\n",
       "      <td>0</td>\n",
       "      <td>1254.0</td>\n",
       "      <td>2915004024000</td>\n",
       "      <td>ТEЧЬ AМOРТИЗA</td>\n",
       "      <td>51000</td>\n",
       "    </tr>\n",
       "    <tr>\n",
       "      <th>1</th>\n",
       "      <td>44360</td>\n",
       "      <td>САМАРА</td>\n",
       "      <td>11183</td>\n",
       "      <td>6106082</td>\n",
       "      <td>2</td>\n",
       "      <td>236</td>\n",
       "      <td>724743</td>\n",
       "      <td>2023-01-18</td>\n",
       "      <td>2023-01-18</td>\n",
       "      <td>15208</td>\n",
       "      <td>15</td>\n",
       "      <td>0.20</td>\n",
       "      <td>310.0</td>\n",
       "      <td>62.0</td>\n",
       "      <td>1.0</td>\n",
       "      <td>0</td>\n",
       "      <td>63.0</td>\n",
       "      <td>6106082083000</td>\n",
       "      <td>УСТАНОВКА ШАЙ</td>\n",
       "      <td>30000</td>\n",
       "    </tr>\n",
       "    <tr>\n",
       "      <th>2</th>\n",
       "      <td>44360</td>\n",
       "      <td>САМАРА</td>\n",
       "      <td>11183</td>\n",
       "      <td>5402334</td>\n",
       "      <td>2</td>\n",
       "      <td>236</td>\n",
       "      <td>724743</td>\n",
       "      <td>2023-01-18</td>\n",
       "      <td>2023-01-18</td>\n",
       "      <td>15208</td>\n",
       "      <td>15</td>\n",
       "      <td>0.80</td>\n",
       "      <td>310.0</td>\n",
       "      <td>248.0</td>\n",
       "      <td>0.0</td>\n",
       "      <td>0</td>\n",
       "      <td>248.0</td>\n",
       "      <td>5402334000000</td>\n",
       "      <td>ДЕФЕКТ ОКАНТО</td>\n",
       "      <td>0</td>\n",
       "    </tr>\n",
       "    <tr>\n",
       "      <th>3</th>\n",
       "      <td>44360</td>\n",
       "      <td>САМАРА</td>\n",
       "      <td>11183</td>\n",
       "      <td>1001157</td>\n",
       "      <td>2</td>\n",
       "      <td>236</td>\n",
       "      <td>724743</td>\n",
       "      <td>2023-01-18</td>\n",
       "      <td>2023-01-18</td>\n",
       "      <td>15208</td>\n",
       "      <td>15</td>\n",
       "      <td>0.68</td>\n",
       "      <td>310.0</td>\n",
       "      <td>211.0</td>\n",
       "      <td>2.0</td>\n",
       "      <td>0</td>\n",
       "      <td>213.0</td>\n",
       "      <td>1001157086000</td>\n",
       "      <td>НЕ ЗАКРЕПЛЕН</td>\n",
       "      <td>30000</td>\n",
       "    </tr>\n",
       "    <tr>\n",
       "      <th>4</th>\n",
       "      <td>44360</td>\n",
       "      <td>САМАРА</td>\n",
       "      <td>11183</td>\n",
       "      <td>1703050</td>\n",
       "      <td>2</td>\n",
       "      <td>236</td>\n",
       "      <td>729174</td>\n",
       "      <td>2023-01-31</td>\n",
       "      <td>2023-01-31</td>\n",
       "      <td>15365</td>\n",
       "      <td>10</td>\n",
       "      <td>9.61</td>\n",
       "      <td>310.0</td>\n",
       "      <td>2979.0</td>\n",
       "      <td>437.0</td>\n",
       "      <td>185</td>\n",
       "      <td>3600.0</td>\n",
       "      <td>1703050000000</td>\n",
       "      <td>ДЕФЕКТ МЕХАНИ</td>\n",
       "      <td>30000</td>\n",
       "    </tr>\n",
       "    <tr>\n",
       "      <th>...</th>\n",
       "      <td>...</td>\n",
       "      <td>...</td>\n",
       "      <td>...</td>\n",
       "      <td>...</td>\n",
       "      <td>...</td>\n",
       "      <td>...</td>\n",
       "      <td>...</td>\n",
       "      <td>...</td>\n",
       "      <td>...</td>\n",
       "      <td>...</td>\n",
       "      <td>...</td>\n",
       "      <td>...</td>\n",
       "      <td>...</td>\n",
       "      <td>...</td>\n",
       "      <td>...</td>\n",
       "      <td>...</td>\n",
       "      <td>...</td>\n",
       "      <td>...</td>\n",
       "      <td>...</td>\n",
       "      <td>...</td>\n",
       "    </tr>\n",
       "    <tr>\n",
       "      <th>1230470</th>\n",
       "      <td>44560</td>\n",
       "      <td>ТОЛЬЯТТ</td>\n",
       "      <td>21703</td>\n",
       "      <td>3724026</td>\n",
       "      <td>69297</td>\n",
       "      <td>69719</td>\n",
       "      <td>527342</td>\n",
       "      <td>2024-12-25</td>\n",
       "      <td>2024-12-26</td>\n",
       "      <td>94</td>\n",
       "      <td>10</td>\n",
       "      <td>0.30</td>\n",
       "      <td>321.0</td>\n",
       "      <td>96.0</td>\n",
       "      <td>0.0</td>\n",
       "      <td>0</td>\n",
       "      <td>96.0</td>\n",
       "      <td>3724026086000</td>\n",
       "      <td>СЛАБОЕ КРЕПЛЕ</td>\n",
       "      <td>4000</td>\n",
       "    </tr>\n",
       "    <tr>\n",
       "      <th>1230471</th>\n",
       "      <td>64460</td>\n",
       "      <td>ОМСК ОА</td>\n",
       "      <td>21703</td>\n",
       "      <td>5325010</td>\n",
       "      <td>69956</td>\n",
       "      <td>70430</td>\n",
       "      <td>5332</td>\n",
       "      <td>2024-12-29</td>\n",
       "      <td>2024-12-29</td>\n",
       "      <td>95</td>\n",
       "      <td>10</td>\n",
       "      <td>1.15</td>\n",
       "      <td>282.0</td>\n",
       "      <td>324.0</td>\n",
       "      <td>0.0</td>\n",
       "      <td>0</td>\n",
       "      <td>324.0</td>\n",
       "      <td>5325010067000</td>\n",
       "      <td>НEКAЧEСТВEННЫ</td>\n",
       "      <td>4520</td>\n",
       "    </tr>\n",
       "    <tr>\n",
       "      <th>1230472</th>\n",
       "      <td>44588</td>\n",
       "      <td>ТОЛЬЯТТ</td>\n",
       "      <td>21703</td>\n",
       "      <td>8118022</td>\n",
       "      <td>70140</td>\n",
       "      <td>70676</td>\n",
       "      <td>179498</td>\n",
       "      <td>2024-12-25</td>\n",
       "      <td>2024-12-25</td>\n",
       "      <td>9</td>\n",
       "      <td>10</td>\n",
       "      <td>0.50</td>\n",
       "      <td>311.0</td>\n",
       "      <td>156.0</td>\n",
       "      <td>11.0</td>\n",
       "      <td>0</td>\n",
       "      <td>166.0</td>\n",
       "      <td>8118022183000</td>\n",
       "      <td>ОБРЫВ ЦЕПИ ДО</td>\n",
       "      <td>51000</td>\n",
       "    </tr>\n",
       "    <tr>\n",
       "      <th>1230473</th>\n",
       "      <td>44588</td>\n",
       "      <td>ТОЛЬЯТТ</td>\n",
       "      <td>21703</td>\n",
       "      <td>8118020</td>\n",
       "      <td>70154</td>\n",
       "      <td>70585</td>\n",
       "      <td>179537</td>\n",
       "      <td>2024-12-26</td>\n",
       "      <td>2024-12-27</td>\n",
       "      <td>12</td>\n",
       "      <td>10</td>\n",
       "      <td>1.02</td>\n",
       "      <td>311.0</td>\n",
       "      <td>317.0</td>\n",
       "      <td>645.0</td>\n",
       "      <td>0</td>\n",
       "      <td>963.0</td>\n",
       "      <td>8118020000000</td>\n",
       "      <td>ДЕФЕКТ ЭЛЕКТР</td>\n",
       "      <td>51000</td>\n",
       "    </tr>\n",
       "    <tr>\n",
       "      <th>1230474</th>\n",
       "      <td>44588</td>\n",
       "      <td>ТОЛЬЯТТ</td>\n",
       "      <td>21703</td>\n",
       "      <td>1703055</td>\n",
       "      <td>70239</td>\n",
       "      <td>70762</td>\n",
       "      <td>179542</td>\n",
       "      <td>2024-12-26</td>\n",
       "      <td>2024-12-26</td>\n",
       "      <td>25</td>\n",
       "      <td>10</td>\n",
       "      <td>3.00</td>\n",
       "      <td>311.0</td>\n",
       "      <td>933.0</td>\n",
       "      <td>8589.0</td>\n",
       "      <td>19</td>\n",
       "      <td>9541.0</td>\n",
       "      <td>1703055004000</td>\n",
       "      <td>ДЕФОРМАЦИЯ 06</td>\n",
       "      <td>30000</td>\n",
       "    </tr>\n",
       "  </tbody>\n",
       "</table>\n",
       "<p>1230475 rows × 20 columns</p>\n",
       "</div>"
      ],
      "text/plain": [
       "         service_id service_name  model  component  product_id  \\\n",
       "0             44360       САМАРА  11183    2915004           2   \n",
       "1             44360       САМАРА  11183    6106082           2   \n",
       "2             44360       САМАРА  11183    5402334           2   \n",
       "3             44360       САМАРА  11183    1001157           2   \n",
       "4             44360       САМАРА  11183    1703050           2   \n",
       "...             ...          ...    ...        ...         ...   \n",
       "1230470       44560      ТОЛЬЯТТ  21703    3724026       69297   \n",
       "1230471       64460      ОМСК ОА  21703    5325010       69956   \n",
       "1230472       44588      ТОЛЬЯТТ  21703    8118022       70140   \n",
       "1230473       44588      ТОЛЬЯТТ  21703    8118020       70154   \n",
       "1230474       44588      ТОЛЬЯТТ  21703    1703055       70239   \n",
       "\n",
       "         product_part1_id  product_part2_id     date_in    date_out  mileage  \\\n",
       "0                     236            724743  2023-01-18  2023-01-18    15208   \n",
       "1                     236            724743  2023-01-18  2023-01-18    15208   \n",
       "2                     236            724743  2023-01-18  2023-01-18    15208   \n",
       "3                     236            724743  2023-01-18  2023-01-18    15208   \n",
       "4                     236            729174  2023-01-31  2023-01-31    15365   \n",
       "...                   ...               ...         ...         ...      ...   \n",
       "1230470             69719            527342  2024-12-25  2024-12-26       94   \n",
       "1230471             70430              5332  2024-12-29  2024-12-29       95   \n",
       "1230472             70676            179498  2024-12-25  2024-12-25        9   \n",
       "1230473             70585            179537  2024-12-26  2024-12-27       12   \n",
       "1230474             70762            179542  2024-12-26  2024-12-26       25   \n",
       "\n",
       "         warranty  labor_cost  operating_time  service_price  part_price  \\\n",
       "0              10        1.42           310.0          440.0       814.0   \n",
       "1              15        0.20           310.0           62.0         1.0   \n",
       "2              15        0.80           310.0          248.0         0.0   \n",
       "3              15        0.68           310.0          211.0         2.0   \n",
       "4              10        9.61           310.0         2979.0       437.0   \n",
       "...           ...         ...             ...            ...         ...   \n",
       "1230470        10        0.30           321.0           96.0         0.0   \n",
       "1230471        10        1.15           282.0          324.0         0.0   \n",
       "1230472        10        0.50           311.0          156.0        11.0   \n",
       "1230473        10        1.02           311.0          317.0       645.0   \n",
       "1230474        10        3.00           311.0          933.0      8589.0   \n",
       "\n",
       "         materials_price  general_price      defect_id    defect_name  causer  \n",
       "0                      0         1254.0  2915004024000  ТEЧЬ AМOРТИЗA   51000  \n",
       "1                      0           63.0  6106082083000  УСТАНОВКА ШАЙ   30000  \n",
       "2                      0          248.0  5402334000000  ДЕФЕКТ ОКАНТО       0  \n",
       "3                      0          213.0  1001157086000   НЕ ЗАКРЕПЛЕН   30000  \n",
       "4                    185         3600.0  1703050000000  ДЕФЕКТ МЕХАНИ   30000  \n",
       "...                  ...            ...            ...            ...     ...  \n",
       "1230470                0           96.0  3724026086000  СЛАБОЕ КРЕПЛЕ    4000  \n",
       "1230471                0          324.0  5325010067000  НEКAЧEСТВEННЫ    4520  \n",
       "1230472                0          166.0  8118022183000  ОБРЫВ ЦЕПИ ДО   51000  \n",
       "1230473                0          963.0  8118020000000  ДЕФЕКТ ЭЛЕКТР   51000  \n",
       "1230474               19         9541.0  1703055004000  ДЕФОРМАЦИЯ 06   30000  \n",
       "\n",
       "[1230475 rows x 20 columns]"
      ]
     },
     "execution_count": 387,
     "metadata": {},
     "output_type": "execute_result"
    }
   ],
   "source": [
    "df"
   ]
  },
  {
   "cell_type": "code",
   "execution_count": 388,
   "id": "7d543cc6-1a06-42d0-86c5-bbd3bc13515e",
   "metadata": {},
   "outputs": [
    {
     "name": "stdout",
     "output_type": "stream",
     "text": [
      "<class 'pandas.core.frame.DataFrame'>\n",
      "RangeIndex: 1230475 entries, 0 to 1230474\n",
      "Data columns (total 20 columns):\n",
      " #   Column            Non-Null Count    Dtype  \n",
      "---  ------            --------------    -----  \n",
      " 0   service_id        1230475 non-null  int64  \n",
      " 1   service_name      1230475 non-null  object \n",
      " 2   model             1230475 non-null  int64  \n",
      " 3   component         1230475 non-null  int64  \n",
      " 4   product_id        1230475 non-null  int64  \n",
      " 5   product_part1_id  1230475 non-null  int64  \n",
      " 6   product_part2_id  1230475 non-null  int64  \n",
      " 7   date_in           1230475 non-null  object \n",
      " 8   date_out          1230475 non-null  object \n",
      " 9   mileage           1230475 non-null  int64  \n",
      " 10  warranty          1230475 non-null  int64  \n",
      " 11  labor_cost        1230475 non-null  float64\n",
      " 12  operating_time    1230475 non-null  float64\n",
      " 13  service_price     1230475 non-null  float64\n",
      " 14  part_price        1230475 non-null  float64\n",
      " 15  materials_price   1230475 non-null  int64  \n",
      " 16  general_price     1230475 non-null  float64\n",
      " 17  defect_id         1230475 non-null  int64  \n",
      " 18  defect_name       1230475 non-null  object \n",
      " 19  causer            1230475 non-null  int64  \n",
      "dtypes: float64(5), int64(11), object(4)\n",
      "memory usage: 187.8+ MB\n"
     ]
    }
   ],
   "source": [
    "#  проверка типов данных\n",
    "df.info()"
   ]
  },
  {
   "cell_type": "code",
   "execution_count": 389,
   "id": "1534ec4b-53ca-4a7d-9ccb-c0cf1bcfb010",
   "metadata": {},
   "outputs": [],
   "source": [
    "# изменение типа данных\n",
    "df['date_in'] = pd.to_datetime(df['date_in'])"
   ]
  },
  {
   "cell_type": "markdown",
   "id": "3629812a-f743-4f9a-8fb2-7bb5f466b70b",
   "metadata": {},
   "source": [
    "# Поиск однородных данных и фильтрация датафрейма"
   ]
  },
  {
   "cell_type": "code",
   "execution_count": 390,
   "id": "8e7a3764-b97d-47a7-9dbf-c03133c3d291",
   "metadata": {},
   "outputs": [],
   "source": [
    "# выбор и сортировка всех уникальных дат\n",
    "dates = df['date_in'].sort_values().unique()"
   ]
  },
  {
   "cell_type": "code",
   "execution_count": 391,
   "id": "c644a496-7c31-4cb6-8e09-fd6e2733e9ad",
   "metadata": {},
   "outputs": [],
   "source": [
    "# функция, которая ищет максимальное количество подряд идущих дат с интервалом в 1 день\n",
    "# [count,[start, end_]]: count - количество таких дат, [start, end_] - временной интервал в котором они находятся\n",
    "def filtered_dates(dates):\n",
    "    start = dates[0]\n",
    "    end_ = start\n",
    "    count = 1  \n",
    "    count_delta = [count,[start, end_]]\n",
    "    for date in dates[1:]:\n",
    "        count += 1\n",
    "        if (date-end_).days != 1:\n",
    "            start = date\n",
    "            end_ = date\n",
    "            count = 1\n",
    "            continue \n",
    "        end_ = date\n",
    "        if count_delta[0] <= count:\n",
    "            count_delta[0] = count\n",
    "            count_delta[1] = [start, end_]\n",
    "    return count_delta"
   ]
  },
  {
   "cell_type": "code",
   "execution_count": 392,
   "id": "d83569b4-4ac1-4cb0-8fad-894d844485a5",
   "metadata": {},
   "outputs": [],
   "source": [
    "# применение функции\n",
    "count_delta = filtered_dates(dates)"
   ]
  },
  {
   "cell_type": "code",
   "execution_count": 393,
   "id": "60dd0468-be29-4f27-9b85-1f0d0757980b",
   "metadata": {},
   "outputs": [
    {
     "data": {
      "text/plain": [
       "[466, [Timestamp('2022-11-20 00:00:00'), Timestamp('2024-02-28 00:00:00')]]"
      ]
     },
     "execution_count": 393,
     "metadata": {},
     "output_type": "execute_result"
    }
   ],
   "source": [
    "# вывод результата\n",
    "count_delta"
   ]
  },
  {
   "cell_type": "code",
   "execution_count": 394,
   "id": "c55c525b-6fd9-4cb3-b07f-7310c8163a3c",
   "metadata": {},
   "outputs": [],
   "source": [
    "# выделение временного интервала в котором все даты идут с интервалом в 1 день (интервал с максимальным количеством таких дат)\n",
    "delta = count_delta[1]"
   ]
  },
  {
   "cell_type": "code",
   "execution_count": 395,
   "id": "f927ea47-03b1-4718-b2c8-ceaae664e176",
   "metadata": {},
   "outputs": [
    {
     "data": {
      "text/plain": [
       "[Timestamp('2022-11-20 00:00:00'), Timestamp('2024-02-28 00:00:00')]"
      ]
     },
     "execution_count": 395,
     "metadata": {},
     "output_type": "execute_result"
    }
   ],
   "source": [
    "delta"
   ]
  },
  {
   "cell_type": "code",
   "execution_count": null,
   "id": "6056adc1-86f0-48e1-9990-f9ce15ca6ef2",
   "metadata": {},
   "outputs": [],
   "source": [
    "# фильтрация основного датафрейма\n",
    "df_new = df[(df['date_in'] >= delta[0]) & (df['date_in'] <= delta[1])].copy()"
   ]
  },
  {
   "cell_type": "code",
   "execution_count": null,
   "id": "a47711c2-ca5d-4334-bf03-bceddd7bcec1",
   "metadata": {},
   "outputs": [],
   "source": [
    "df_new.head(5) "
   ]
  },
  {
   "cell_type": "markdown",
   "id": "e94271da-ff45-41c8-8982-b865314b5d41",
   "metadata": {},
   "source": [
    "# Приведение данных к формату ML (Moment, Location) и фильтрация полученной таблицы"
   ]
  },
  {
   "cell_type": "markdown",
   "id": "695c7e6a-01e6-4613-8991-16edaeb0a91c",
   "metadata": {},
   "source": [
    "#### ML (Moment, Location) форматом данных является набор значений наблюдаемой характеристики, организованный в виде таблицы:"
   ]
  },
  {
   "cell_type": "markdown",
   "id": "19332d73-6bf5-4c06-a48a-477b61fd51ff",
   "metadata": {},
   "source": [
    "![Описание изображения](./ml.png)"
   ]
  },
  {
   "cell_type": "code",
   "execution_count": null,
   "id": "1a7253dc-e8a4-402e-9a4d-6d7f360ad9c1",
   "metadata": {},
   "outputs": [],
   "source": [
    "# приведение необходимых нам данных к формату ML\n",
    "ML = df.pivot_table(index='date_in', columns='service_id', aggfunc='size')"
   ]
  },
  {
   "cell_type": "code",
   "execution_count": null,
   "id": "6632a42a-1295-4e4e-98d9-1d9b689d49dd",
   "metadata": {},
   "outputs": [],
   "source": [
    "ML"
   ]
  },
  {
   "cell_type": "code",
   "execution_count": null,
   "id": "d99c6946-d2fd-49aa-9302-a2fdcca91573",
   "metadata": {},
   "outputs": [],
   "source": [
    "# доля пропусков в каждой строке  полученной таблицы \n",
    "ML.isna().mean(axis=1).sort_index()"
   ]
  },
  {
   "cell_type": "code",
   "execution_count": null,
   "id": "0d84529a-9dd7-46c0-b13b-69a357a668a0",
   "metadata": {},
   "outputs": [],
   "source": [
    "# просмотр пропусков в первых 20 строках\n",
    "ML.isna().mean(axis=1).sort_index()[0:20]"
   ]
  },
  {
   "cell_type": "code",
   "execution_count": null,
   "id": "fcba0a27-07a1-4585-aa1a-2070c21a49ee",
   "metadata": {},
   "outputs": [],
   "source": [
    "# фильтрация таблицы\n",
    "ML = ML[ML.isna().mean(axis=1) < 0.9]"
   ]
  },
  {
   "cell_type": "code",
   "execution_count": null,
   "id": "6aef0880-b603-4d26-a5b3-cdff46a29e11",
   "metadata": {},
   "outputs": [],
   "source": [
    "# заполнение пропусков\n",
    "ML = ML.fillna(0)"
   ]
  },
  {
   "cell_type": "code",
   "execution_count": null,
   "id": "8e2c497a-ba6a-468c-9156-62b72963a6b4",
   "metadata": {},
   "outputs": [],
   "source": [
    "# изменение типа данных\n",
    "ML = ML.astype('int')"
   ]
  },
  {
   "cell_type": "code",
   "execution_count": null,
   "id": "c76834a7-dca5-4dad-9fa5-294d477a8085",
   "metadata": {},
   "outputs": [],
   "source": [
    "ML"
   ]
  },
  {
   "cell_type": "markdown",
   "id": "d78918c1-072d-4c9d-a221-0545b9c5ac52",
   "metadata": {},
   "source": [
    "# Редукция данных при помощи Парето-аназиза"
   ]
  },
  {
   "cell_type": "code",
   "execution_count": null,
   "id": "a0652c2b-caf9-4cb3-8230-4a8857e0f54b",
   "metadata": {},
   "outputs": [],
   "source": [
    "# вычисление общего числа заявок\n",
    "total_profit = len(df_new)"
   ]
  },
  {
   "cell_type": "code",
   "execution_count": null,
   "id": "40ee12ff-d12d-437b-b417-ef35b67f604e",
   "metadata": {},
   "outputs": [],
   "source": [
    "total_profit "
   ]
  },
  {
   "cell_type": "code",
   "execution_count": null,
   "id": "7366297d-4e5d-4d9d-b550-eb2264cc2ca1",
   "metadata": {},
   "outputs": [],
   "source": [
    "# вычисление 80% от общего числа заявок\n",
    "target_profit = total_profit * 0.8"
   ]
  },
  {
   "cell_type": "code",
   "execution_count": null,
   "id": "1eccf30a-0634-46b5-b34b-f586a5374b8c",
   "metadata": {},
   "outputs": [],
   "source": [
    "# подсчет количества заявок в каждом сервисе\n",
    "service_requests = df_new.groupby('service_id').agg('size').sort_values(ascending=False).reset_index().rename(columns={0: 'count'})"
   ]
  },
  {
   "cell_type": "code",
   "execution_count": null,
   "id": "f797d3a0-42fc-4a01-acc2-13e08d5f38b8",
   "metadata": {},
   "outputs": [],
   "source": [
    "# пусть все индексы начинаются с 1\n",
    "service_requests.index = service_requests.index + 1  # Установка нового индекса, начиная с 1"
   ]
  },
  {
   "cell_type": "code",
   "execution_count": null,
   "id": "dc79ad2d-319a-4aca-85bf-716f49a88d3b",
   "metadata": {},
   "outputs": [],
   "source": [
    "service_requests"
   ]
  },
  {
   "cell_type": "code",
   "execution_count": null,
   "id": "98cb5ea8-a2a5-4d46-a9e8-b5dcf5d01a8b",
   "metadata": {},
   "outputs": [],
   "source": [
    "# вычисление кумулятивной суммы заявок\n",
    "accumulated_profit = service_requests[['count']].cumsum()"
   ]
  },
  {
   "cell_type": "code",
   "execution_count": null,
   "id": "e26e86c9-f4d6-43c0-b51b-4026717d5777",
   "metadata": {},
   "outputs": [],
   "source": [
    "# пересечеие таблиц по индексам\n",
    "accumulated_profit = service_requests.merge(accumulated_profit, how='left', left_index=True, right_index=True)"
   ]
  },
  {
   "cell_type": "code",
   "execution_count": null,
   "id": "11e82bed-f87f-45ff-9094-d1ae77ddc433",
   "metadata": {},
   "outputs": [],
   "source": [
    "accumulated_profit "
   ]
  },
  {
   "cell_type": "code",
   "execution_count": null,
   "id": "cbe8bc36-3435-4289-829b-42ef4f1b6d6a",
   "metadata": {},
   "outputs": [],
   "source": [
    "# выделение нужных столбцов\n",
    "accumulated_profit = accumulated_profit[['service_id','count_y']]"
   ]
  },
  {
   "cell_type": "code",
   "execution_count": null,
   "id": "e03dfa8e-f5d0-459e-8b14-042c52f97781",
   "metadata": {},
   "outputs": [],
   "source": [
    "accumulated_profit "
   ]
  },
  {
   "cell_type": "code",
   "execution_count": null,
   "id": "269494e8-52d4-40f8-911f-4bb06358f46f",
   "metadata": {},
   "outputs": [],
   "source": [
    "# переименование столбца\n",
    "accumulated_profit = accumulated_profit.rename(columns={'count_y': 'cumsum'})"
   ]
  },
  {
   "cell_type": "code",
   "execution_count": null,
   "id": "98eed6c5-45ed-4648-8b80-d5247a0bd879",
   "metadata": {},
   "outputs": [],
   "source": [
    "accumulated_profit"
   ]
  },
  {
   "cell_type": "code",
   "execution_count": null,
   "id": "bd736888-e8b7-4eba-9ac1-feec0155a6bf",
   "metadata": {},
   "outputs": [],
   "source": [
    "# нахождение сервисов, которые приносят 80% заявок\n",
    "top_service = accumulated_profit[accumulated_profit['cumsum'] <= target_profit]"
   ]
  },
  {
   "cell_type": "code",
   "execution_count": null,
   "id": "6afbda6b-1383-4f6a-82b9-b8e389fab4ec",
   "metadata": {},
   "outputs": [],
   "source": [
    "top_service "
   ]
  },
  {
   "cell_type": "code",
   "execution_count": null,
   "id": "f47d01bd-bcc1-4bdd-9278-a303d88f6f83",
   "metadata": {},
   "outputs": [],
   "source": [
    "# количество сервислв, которые приносят 80% заявок\n",
    "l = len(top_service)"
   ]
  },
  {
   "cell_type": "code",
   "execution_count": null,
   "id": "1cc62217-10ee-4a4f-82b1-150618ed67ae",
   "metadata": {},
   "outputs": [],
   "source": [
    "l "
   ]
  },
  {
   "cell_type": "markdown",
   "id": "d9fd4896-cd8f-4042-b519-0e18da9e0d84",
   "metadata": {},
   "source": [
    "# Визуализация рейтинга автосервисов"
   ]
  },
  {
   "cell_type": "code",
   "execution_count": null,
   "id": "a78b491d-15b2-41e9-b851-2bf641029ae7",
   "metadata": {},
   "outputs": [],
   "source": [
    "# построение графика\n",
    "plt.figure(figsize=(7.2, 4))\n",
    "plt.plot(service_requests.index, service_requests['count'], linewidth=2, linestyle='-', alpha=0.7)\n",
    "plt.scatter(l, service_requests.iloc[l, 1], color='red', s=15, zorder=5, label=f'количество сервисов, которые приносят 80% заявок: {l}')\n",
    "\n",
    "# настройка графика\n",
    "plt.title('Количество заявок в каждом сервисном центре')\n",
    "plt.xlabel('Сервесный центр')\n",
    "plt.ylabel('Количество заявок')\n",
    "\n",
    "# автоматическая настраивает параметры подграфиков\n",
    "plt.tight_layout()\n",
    "\n",
    "# добавление легенды\n",
    "plt.legend()\n",
    "\n",
    "# показ графиков\n",
    "plt.show()"
   ]
  },
  {
   "cell_type": "markdown",
   "id": "73cac594-13d2-456b-8f48-8db05eb1d37b",
   "metadata": {},
   "source": [
    "# Визуализация портретов локаций"
   ]
  },
  {
   "cell_type": "markdown",
   "id": "c0cb5b78-25b9-4e77-a561-a82165fc5b97",
   "metadata": {},
   "source": [
    "#### Портрет локации — это некая кривая, характеризующая изменение характеристики с течением времени в данной локации."
   ]
  },
  {
   "cell_type": "markdown",
   "id": "1a9d9f19-2351-45bb-b143-48158c728a98",
   "metadata": {},
   "source": [
    "### В нашем случае:"
   ]
  },
  {
   "cell_type": "markdown",
   "id": "2ef5f984-3fd7-444a-9656-92804b74bbaa",
   "metadata": {},
   "source": [
    "#### Характеристика — количество заявок"
   ]
  },
  {
   "cell_type": "markdown",
   "id": "96e8a44f-402f-4019-8605-d45bf5fed8b1",
   "metadata": {},
   "source": [
    "#### Локация —  автосервис"
   ]
  },
  {
   "cell_type": "code",
   "execution_count": null,
   "id": "1d05a84d-7ab5-4475-a36c-879c6c4119d2",
   "metadata": {},
   "outputs": [],
   "source": [
    "# создаем фигуру с 1 строкой и 2 колонками\n",
    "fig, axs = plt.subplots(1, 2, figsize=(12, 5))\n",
    "\n",
    "# первый график\n",
    "axs[0].plot(ML.index, ML[44570])\n",
    "axs[0].set_title('Портрет локации 44570')\n",
    "axs[0].set_xlabel('Дата')\n",
    "axs[0].set_ylabel('Количество заявок')\n",
    "\n",
    "# второй график \n",
    "axs[1].plot(ML.index, ML[11785])\n",
    "axs[1].set_title('Портрет локации 11785')\n",
    "axs[1].set_xlabel('Дата')\n",
    "axs[1].set_ylabel('Количество заявок')\n",
    "\n",
    "# получение лимитов осей\n",
    "x_limits = axs[1].get_xlim()  # Получаем лимиты оси X\n",
    "y_limits = axs[1].get_ylim()  # Получаем лимиты оси Y\n",
    "\n",
    "# установка пределов для оси X для изменения масштаба\n",
    "axs[0].set_xlim(x_limits[0], x_limits[1])  # Установите желаемый диапазон\n",
    "\n",
    "# установка пределов для оси Y для изменения масштаба\n",
    "axs[0].set_ylim(y_limits[0], y_limits[1])  # Установите желаемый диапазон\n",
    "\n",
    "ind = list(ML.index[::170])\n",
    "axs[1].set_xticks(ind)\n",
    "axs[0].set_xticks(ind)\n",
    "\n",
    "# автоматическая настраивает параметры подграфиков\n",
    "plt.tight_layout()\n",
    "\n",
    "# показ графиков\n",
    "plt.show()"
   ]
  }
 ],
 "metadata": {
  "kernelspec": {
   "display_name": "Python 3 (ipykernel)",
   "language": "python",
   "name": "python3"
  },
  "language_info": {
   "codemirror_mode": {
    "name": "ipython",
    "version": 3
   },
   "file_extension": ".py",
   "mimetype": "text/x-python",
   "name": "python",
   "nbconvert_exporter": "python",
   "pygments_lexer": "ipython3",
   "version": "3.8.20"
  }
 },
 "nbformat": 4,
 "nbformat_minor": 5
}
